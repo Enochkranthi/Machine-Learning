{
 "cells": [
  {
   "cell_type": "markdown",
   "id": "52db50fd",
   "metadata": {},
   "source": [
    "# Krish naik 79 video"
   ]
  },
  {
   "cell_type": "code",
   "execution_count": 1,
   "id": "67209705",
   "metadata": {},
   "outputs": [],
   "source": [
    "import numpy as np\n",
    "import pandas as pd\n",
    "import matplotlib.pyplot as plt\n",
    "from sklearn.datasets import make_classification "
   ]
  },
  {
   "cell_type": "code",
   "execution_count": 4,
   "id": "38d8510d",
   "metadata": {},
   "outputs": [],
   "source": [
    "from sklearn.model_selection import train_test_split\n",
    "X,y = make_classification(n_samples = 2000, n_classes = 2, weights = [1,1], random_state = 1)"
   ]
  },
  {
   "cell_type": "code",
   "execution_count": 5,
   "id": "3b1251a6",
   "metadata": {},
   "outputs": [
    {
     "data": {
      "text/plain": [
       "((2000, 20), (2000,))"
      ]
     },
     "execution_count": 5,
     "metadata": {},
     "output_type": "execute_result"
    }
   ],
   "source": [
    "X.shape, y.shape"
   ]
  },
  {
   "cell_type": "code",
   "execution_count": 7,
   "id": "957cf307",
   "metadata": {},
   "outputs": [],
   "source": [
    "X_train, X_test, y_train, y_test = train_test_split(X,y, test_size = 0.3, random_state = 42)"
   ]
  },
  {
   "cell_type": "code",
   "execution_count": 8,
   "id": "2de4b750",
   "metadata": {},
   "outputs": [],
   "source": [
    "from sklearn.metrics import roc_curve\n",
    "from sklearn.metrics import roc_auc_score"
   ]
  },
  {
   "cell_type": "markdown",
   "id": "d513e41d",
   "metadata": {},
   "source": [
    "Logistic Regression"
   ]
  },
  {
   "cell_type": "code",
   "execution_count": 21,
   "id": "7eb522a6",
   "metadata": {},
   "outputs": [
    {
     "data": {
      "text/plain": [
       "0.9831325836703854"
      ]
     },
     "execution_count": 21,
     "metadata": {},
     "output_type": "execute_result"
    }
   ],
   "source": [
    "from sklearn.linear_model import LogisticRegression\n",
    "clf = LogisticRegression()\n",
    "clf.fit(X_train, y_train)\n",
    "ytest_pred = clf.predict_proba(X_test)\n",
    "\n",
    "roc_auc_score(y_test,ytest_pred[:,1])"
   ]
  },
  {
   "cell_type": "markdown",
   "id": "376df276",
   "metadata": {},
   "source": [
    "Random Forests"
   ]
  },
  {
   "cell_type": "code",
   "execution_count": 12,
   "id": "6ee9d43d",
   "metadata": {},
   "outputs": [
    {
     "data": {
      "text/plain": [
       "0.981299168851949"
      ]
     },
     "execution_count": 12,
     "metadata": {},
     "output_type": "execute_result"
    }
   ],
   "source": [
    "from sklearn.ensemble import RandomForestClassifier\n",
    "\n",
    "rf_model = RandomForestClassifier()\n",
    "rf_model.fit(X_train, y_train)\n",
    "ytest_pred = rf_model.predict_proba(X_test)\n",
    "\n",
    "roc_auc_score(y_test,ytest_pred[:,1])"
   ]
  },
  {
   "cell_type": "code",
   "execution_count": 13,
   "id": "c08715d2",
   "metadata": {},
   "outputs": [
    {
     "data": {
      "text/plain": [
       "array([[0.08, 0.92],\n",
       "       [0.09, 0.91],\n",
       "       [0.05, 0.95],\n",
       "       ...,\n",
       "       [0.14, 0.86],\n",
       "       [0.01, 0.99],\n",
       "       [0.99, 0.01]])"
      ]
     },
     "execution_count": 13,
     "metadata": {},
     "output_type": "execute_result"
    }
   ],
   "source": [
    "ytest_pred"
   ]
  },
  {
   "cell_type": "code",
   "execution_count": 27,
   "id": "e7e32a0e",
   "metadata": {},
   "outputs": [
    {
     "data": {
      "text/plain": [
       "(600, 2)"
      ]
     },
     "execution_count": 27,
     "metadata": {},
     "output_type": "execute_result"
    }
   ],
   "source": [
    "ytest_pred.shape"
   ]
  },
  {
   "cell_type": "markdown",
   "id": "2a59b126",
   "metadata": {},
   "source": [
    "Adaboost Classifier"
   ]
  },
  {
   "cell_type": "code",
   "execution_count": 23,
   "id": "458db24f",
   "metadata": {},
   "outputs": [
    {
     "data": {
      "text/plain": [
       "0.9788657273656608"
      ]
     },
     "execution_count": 23,
     "metadata": {},
     "output_type": "execute_result"
    }
   ],
   "source": [
    "from sklearn.ensemble import AdaBoostClassifier\n",
    "ada_classifier = AdaBoostClassifier()\n",
    "ada_classifier.fit(X_train, y_train)\n",
    "ytest_pred = ada_classifier.predict_proba(X_test)\n",
    "\n",
    "roc_auc_score(y_test,ytest_pred[:,1])"
   ]
  },
  {
   "cell_type": "markdown",
   "id": "3fa0747e",
   "metadata": {},
   "source": [
    "KNN Classifier"
   ]
  },
  {
   "cell_type": "code",
   "execution_count": 26,
   "id": "d4256661",
   "metadata": {},
   "outputs": [
    {
     "data": {
      "text/plain": [
       "0.9387583892617449"
      ]
     },
     "execution_count": 26,
     "metadata": {},
     "output_type": "execute_result"
    }
   ],
   "source": [
    "from sklearn.neighbors import KNeighborsClassifier\n",
    "knn_classifier = KNeighborsClassifier()\n",
    "knn_classifier.fit(X_train, y_train)\n",
    "ytest_pred = knn_classifier.predict_proba(X_test)\n",
    "\n",
    "roc_auc_score(y_test,ytest_pred[:,1])"
   ]
  }
 ],
 "metadata": {
  "kernelspec": {
   "display_name": "Python 3",
   "language": "python",
   "name": "python3"
  },
  "language_info": {
   "codemirror_mode": {
    "name": "ipython",
    "version": 3
   },
   "file_extension": ".py",
   "mimetype": "text/x-python",
   "name": "python",
   "nbconvert_exporter": "python",
   "pygments_lexer": "ipython3",
   "version": "3.8.8"
  }
 },
 "nbformat": 4,
 "nbformat_minor": 5
}
