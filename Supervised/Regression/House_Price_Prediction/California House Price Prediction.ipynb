{
 "cells": [
  {
   "cell_type": "code",
   "execution_count": 1,
   "id": "b2388136",
   "metadata": {},
   "outputs": [],
   "source": [
    "import numpy as np\n",
    "import pandas as pd\n",
    "import matplotlib.pyplot as plt\n",
    "import seaborn as sns"
   ]
  },
  {
   "cell_type": "code",
   "execution_count": 2,
   "id": "58cf9d0f",
   "metadata": {},
   "outputs": [],
   "source": [
    "housing = pd.read_csv(\"housing.csv\")"
   ]
  },
  {
   "cell_type": "code",
   "execution_count": 3,
   "id": "7110b2f0",
   "metadata": {},
   "outputs": [
    {
     "data": {
      "text/html": [
       "<div>\n",
       "<style scoped>\n",
       "    .dataframe tbody tr th:only-of-type {\n",
       "        vertical-align: middle;\n",
       "    }\n",
       "\n",
       "    .dataframe tbody tr th {\n",
       "        vertical-align: top;\n",
       "    }\n",
       "\n",
       "    .dataframe thead th {\n",
       "        text-align: right;\n",
       "    }\n",
       "</style>\n",
       "<table border=\"1\" class=\"dataframe\">\n",
       "  <thead>\n",
       "    <tr style=\"text-align: right;\">\n",
       "      <th></th>\n",
       "      <th>longitude</th>\n",
       "      <th>latitude</th>\n",
       "      <th>housing_median_age</th>\n",
       "      <th>total_rooms</th>\n",
       "      <th>total_bedrooms</th>\n",
       "      <th>population</th>\n",
       "      <th>households</th>\n",
       "      <th>median_income</th>\n",
       "      <th>median_house_value</th>\n",
       "      <th>ocean_proximity</th>\n",
       "    </tr>\n",
       "  </thead>\n",
       "  <tbody>\n",
       "    <tr>\n",
       "      <th>0</th>\n",
       "      <td>-122.23</td>\n",
       "      <td>37.88</td>\n",
       "      <td>41</td>\n",
       "      <td>880</td>\n",
       "      <td>129.0</td>\n",
       "      <td>322</td>\n",
       "      <td>126</td>\n",
       "      <td>8.3252</td>\n",
       "      <td>452600</td>\n",
       "      <td>NEAR BAY</td>\n",
       "    </tr>\n",
       "    <tr>\n",
       "      <th>1</th>\n",
       "      <td>-122.22</td>\n",
       "      <td>37.86</td>\n",
       "      <td>21</td>\n",
       "      <td>7099</td>\n",
       "      <td>1106.0</td>\n",
       "      <td>2401</td>\n",
       "      <td>1138</td>\n",
       "      <td>8.3014</td>\n",
       "      <td>358500</td>\n",
       "      <td>NEAR BAY</td>\n",
       "    </tr>\n",
       "    <tr>\n",
       "      <th>2</th>\n",
       "      <td>-122.24</td>\n",
       "      <td>37.85</td>\n",
       "      <td>52</td>\n",
       "      <td>1467</td>\n",
       "      <td>190.0</td>\n",
       "      <td>496</td>\n",
       "      <td>177</td>\n",
       "      <td>7.2574</td>\n",
       "      <td>352100</td>\n",
       "      <td>NEAR BAY</td>\n",
       "    </tr>\n",
       "    <tr>\n",
       "      <th>3</th>\n",
       "      <td>-122.25</td>\n",
       "      <td>37.85</td>\n",
       "      <td>52</td>\n",
       "      <td>1274</td>\n",
       "      <td>235.0</td>\n",
       "      <td>558</td>\n",
       "      <td>219</td>\n",
       "      <td>5.6431</td>\n",
       "      <td>341300</td>\n",
       "      <td>NEAR BAY</td>\n",
       "    </tr>\n",
       "    <tr>\n",
       "      <th>4</th>\n",
       "      <td>-122.25</td>\n",
       "      <td>37.85</td>\n",
       "      <td>52</td>\n",
       "      <td>1627</td>\n",
       "      <td>280.0</td>\n",
       "      <td>565</td>\n",
       "      <td>259</td>\n",
       "      <td>3.8462</td>\n",
       "      <td>342200</td>\n",
       "      <td>NEAR BAY</td>\n",
       "    </tr>\n",
       "  </tbody>\n",
       "</table>\n",
       "</div>"
      ],
      "text/plain": [
       "   longitude  latitude  housing_median_age  total_rooms  total_bedrooms  \\\n",
       "0    -122.23     37.88                  41          880           129.0   \n",
       "1    -122.22     37.86                  21         7099          1106.0   \n",
       "2    -122.24     37.85                  52         1467           190.0   \n",
       "3    -122.25     37.85                  52         1274           235.0   \n",
       "4    -122.25     37.85                  52         1627           280.0   \n",
       "\n",
       "   population  households  median_income  median_house_value ocean_proximity  \n",
       "0         322         126         8.3252              452600        NEAR BAY  \n",
       "1        2401        1138         8.3014              358500        NEAR BAY  \n",
       "2         496         177         7.2574              352100        NEAR BAY  \n",
       "3         558         219         5.6431              341300        NEAR BAY  \n",
       "4         565         259         3.8462              342200        NEAR BAY  "
      ]
     },
     "execution_count": 3,
     "metadata": {},
     "output_type": "execute_result"
    }
   ],
   "source": [
    "housing.head()"
   ]
  },
  {
   "cell_type": "code",
   "execution_count": 4,
   "id": "70ea3a29",
   "metadata": {},
   "outputs": [
    {
     "data": {
      "text/plain": [
       "(20640, 10)"
      ]
     },
     "execution_count": 4,
     "metadata": {},
     "output_type": "execute_result"
    }
   ],
   "source": [
    "housing.shape"
   ]
  },
  {
   "cell_type": "code",
   "execution_count": 5,
   "id": "4d7b6627",
   "metadata": {},
   "outputs": [
    {
     "name": "stdout",
     "output_type": "stream",
     "text": [
      "<class 'pandas.core.frame.DataFrame'>\n",
      "RangeIndex: 20640 entries, 0 to 20639\n",
      "Data columns (total 10 columns):\n",
      " #   Column              Non-Null Count  Dtype  \n",
      "---  ------              --------------  -----  \n",
      " 0   longitude           20640 non-null  float64\n",
      " 1   latitude            20640 non-null  float64\n",
      " 2   housing_median_age  20640 non-null  int64  \n",
      " 3   total_rooms         20640 non-null  int64  \n",
      " 4   total_bedrooms      20433 non-null  float64\n",
      " 5   population          20640 non-null  int64  \n",
      " 6   households          20640 non-null  int64  \n",
      " 7   median_income       20640 non-null  float64\n",
      " 8   median_house_value  20640 non-null  int64  \n",
      " 9   ocean_proximity     20640 non-null  object \n",
      "dtypes: float64(4), int64(5), object(1)\n",
      "memory usage: 1.6+ MB\n"
     ]
    }
   ],
   "source": [
    "housing.info()"
   ]
  },
  {
   "cell_type": "code",
   "execution_count": 6,
   "id": "ab92e94b",
   "metadata": {},
   "outputs": [
    {
     "data": {
      "text/plain": [
       "<1H OCEAN     9136\n",
       "INLAND        6551\n",
       "NEAR OCEAN    2658\n",
       "NEAR BAY      2290\n",
       "ISLAND           5\n",
       "Name: ocean_proximity, dtype: int64"
      ]
     },
     "execution_count": 6,
     "metadata": {},
     "output_type": "execute_result"
    }
   ],
   "source": [
    "housing.ocean_proximity.value_counts()"
   ]
  },
  {
   "cell_type": "code",
   "execution_count": 7,
   "id": "993990e0",
   "metadata": {},
   "outputs": [
    {
     "data": {
      "text/html": [
       "<div>\n",
       "<style scoped>\n",
       "    .dataframe tbody tr th:only-of-type {\n",
       "        vertical-align: middle;\n",
       "    }\n",
       "\n",
       "    .dataframe tbody tr th {\n",
       "        vertical-align: top;\n",
       "    }\n",
       "\n",
       "    .dataframe thead th {\n",
       "        text-align: right;\n",
       "    }\n",
       "</style>\n",
       "<table border=\"1\" class=\"dataframe\">\n",
       "  <thead>\n",
       "    <tr style=\"text-align: right;\">\n",
       "      <th></th>\n",
       "      <th>longitude</th>\n",
       "      <th>latitude</th>\n",
       "      <th>housing_median_age</th>\n",
       "      <th>total_rooms</th>\n",
       "      <th>total_bedrooms</th>\n",
       "      <th>population</th>\n",
       "      <th>households</th>\n",
       "      <th>median_income</th>\n",
       "      <th>median_house_value</th>\n",
       "    </tr>\n",
       "  </thead>\n",
       "  <tbody>\n",
       "    <tr>\n",
       "      <th>count</th>\n",
       "      <td>20640.000000</td>\n",
       "      <td>20640.000000</td>\n",
       "      <td>20640.000000</td>\n",
       "      <td>20640.000000</td>\n",
       "      <td>20433.000000</td>\n",
       "      <td>20640.000000</td>\n",
       "      <td>20640.000000</td>\n",
       "      <td>20640.000000</td>\n",
       "      <td>20640.000000</td>\n",
       "    </tr>\n",
       "    <tr>\n",
       "      <th>mean</th>\n",
       "      <td>-119.569704</td>\n",
       "      <td>35.631861</td>\n",
       "      <td>28.639486</td>\n",
       "      <td>2635.763081</td>\n",
       "      <td>537.870553</td>\n",
       "      <td>1425.476744</td>\n",
       "      <td>499.539680</td>\n",
       "      <td>3.870671</td>\n",
       "      <td>206855.816909</td>\n",
       "    </tr>\n",
       "    <tr>\n",
       "      <th>std</th>\n",
       "      <td>2.003532</td>\n",
       "      <td>2.135952</td>\n",
       "      <td>12.585558</td>\n",
       "      <td>2181.615252</td>\n",
       "      <td>421.385070</td>\n",
       "      <td>1132.462122</td>\n",
       "      <td>382.329753</td>\n",
       "      <td>1.899822</td>\n",
       "      <td>115395.615874</td>\n",
       "    </tr>\n",
       "    <tr>\n",
       "      <th>min</th>\n",
       "      <td>-124.350000</td>\n",
       "      <td>32.540000</td>\n",
       "      <td>1.000000</td>\n",
       "      <td>2.000000</td>\n",
       "      <td>1.000000</td>\n",
       "      <td>3.000000</td>\n",
       "      <td>1.000000</td>\n",
       "      <td>0.499900</td>\n",
       "      <td>14999.000000</td>\n",
       "    </tr>\n",
       "    <tr>\n",
       "      <th>25%</th>\n",
       "      <td>-121.800000</td>\n",
       "      <td>33.930000</td>\n",
       "      <td>18.000000</td>\n",
       "      <td>1447.750000</td>\n",
       "      <td>296.000000</td>\n",
       "      <td>787.000000</td>\n",
       "      <td>280.000000</td>\n",
       "      <td>2.563400</td>\n",
       "      <td>119600.000000</td>\n",
       "    </tr>\n",
       "    <tr>\n",
       "      <th>50%</th>\n",
       "      <td>-118.490000</td>\n",
       "      <td>34.260000</td>\n",
       "      <td>29.000000</td>\n",
       "      <td>2127.000000</td>\n",
       "      <td>435.000000</td>\n",
       "      <td>1166.000000</td>\n",
       "      <td>409.000000</td>\n",
       "      <td>3.534800</td>\n",
       "      <td>179700.000000</td>\n",
       "    </tr>\n",
       "    <tr>\n",
       "      <th>75%</th>\n",
       "      <td>-118.010000</td>\n",
       "      <td>37.710000</td>\n",
       "      <td>37.000000</td>\n",
       "      <td>3148.000000</td>\n",
       "      <td>647.000000</td>\n",
       "      <td>1725.000000</td>\n",
       "      <td>605.000000</td>\n",
       "      <td>4.743250</td>\n",
       "      <td>264725.000000</td>\n",
       "    </tr>\n",
       "    <tr>\n",
       "      <th>max</th>\n",
       "      <td>-114.310000</td>\n",
       "      <td>41.950000</td>\n",
       "      <td>52.000000</td>\n",
       "      <td>39320.000000</td>\n",
       "      <td>6445.000000</td>\n",
       "      <td>35682.000000</td>\n",
       "      <td>6082.000000</td>\n",
       "      <td>15.000100</td>\n",
       "      <td>500001.000000</td>\n",
       "    </tr>\n",
       "  </tbody>\n",
       "</table>\n",
       "</div>"
      ],
      "text/plain": [
       "          longitude      latitude  housing_median_age   total_rooms  \\\n",
       "count  20640.000000  20640.000000        20640.000000  20640.000000   \n",
       "mean    -119.569704     35.631861           28.639486   2635.763081   \n",
       "std        2.003532      2.135952           12.585558   2181.615252   \n",
       "min     -124.350000     32.540000            1.000000      2.000000   \n",
       "25%     -121.800000     33.930000           18.000000   1447.750000   \n",
       "50%     -118.490000     34.260000           29.000000   2127.000000   \n",
       "75%     -118.010000     37.710000           37.000000   3148.000000   \n",
       "max     -114.310000     41.950000           52.000000  39320.000000   \n",
       "\n",
       "       total_bedrooms    population    households  median_income  \\\n",
       "count    20433.000000  20640.000000  20640.000000   20640.000000   \n",
       "mean       537.870553   1425.476744    499.539680       3.870671   \n",
       "std        421.385070   1132.462122    382.329753       1.899822   \n",
       "min          1.000000      3.000000      1.000000       0.499900   \n",
       "25%        296.000000    787.000000    280.000000       2.563400   \n",
       "50%        435.000000   1166.000000    409.000000       3.534800   \n",
       "75%        647.000000   1725.000000    605.000000       4.743250   \n",
       "max       6445.000000  35682.000000   6082.000000      15.000100   \n",
       "\n",
       "       median_house_value  \n",
       "count        20640.000000  \n",
       "mean        206855.816909  \n",
       "std         115395.615874  \n",
       "min          14999.000000  \n",
       "25%         119600.000000  \n",
       "50%         179700.000000  \n",
       "75%         264725.000000  \n",
       "max         500001.000000  "
      ]
     },
     "execution_count": 7,
     "metadata": {},
     "output_type": "execute_result"
    }
   ],
   "source": [
    "housing.describe()"
   ]
  },
  {
   "cell_type": "code",
   "execution_count": 8,
   "id": "40315709",
   "metadata": {},
   "outputs": [
    {
     "data": {
      "text/html": [
       "<div>\n",
       "<style scoped>\n",
       "    .dataframe tbody tr th:only-of-type {\n",
       "        vertical-align: middle;\n",
       "    }\n",
       "\n",
       "    .dataframe tbody tr th {\n",
       "        vertical-align: top;\n",
       "    }\n",
       "\n",
       "    .dataframe thead th {\n",
       "        text-align: right;\n",
       "    }\n",
       "</style>\n",
       "<table border=\"1\" class=\"dataframe\">\n",
       "  <thead>\n",
       "    <tr style=\"text-align: right;\">\n",
       "      <th></th>\n",
       "      <th>ocean_proximity</th>\n",
       "    </tr>\n",
       "  </thead>\n",
       "  <tbody>\n",
       "    <tr>\n",
       "      <th>count</th>\n",
       "      <td>20640</td>\n",
       "    </tr>\n",
       "    <tr>\n",
       "      <th>unique</th>\n",
       "      <td>5</td>\n",
       "    </tr>\n",
       "    <tr>\n",
       "      <th>top</th>\n",
       "      <td>&lt;1H OCEAN</td>\n",
       "    </tr>\n",
       "    <tr>\n",
       "      <th>freq</th>\n",
       "      <td>9136</td>\n",
       "    </tr>\n",
       "  </tbody>\n",
       "</table>\n",
       "</div>"
      ],
      "text/plain": [
       "       ocean_proximity\n",
       "count            20640\n",
       "unique               5\n",
       "top          <1H OCEAN\n",
       "freq              9136"
      ]
     },
     "execution_count": 8,
     "metadata": {},
     "output_type": "execute_result"
    }
   ],
   "source": [
    "housing.describe(include='O')"
   ]
  },
  {
   "cell_type": "markdown",
   "id": "c85f851b",
   "metadata": {},
   "source": [
    "# Data Visualization"
   ]
  },
  {
   "cell_type": "code",
   "execution_count": 9,
   "id": "f883fcaf",
   "metadata": {},
   "outputs": [
    {
     "data": {
      "text/plain": [
       "(array([ 877., 3612., 4099., 3771., 2799., 1769., 1239.,  752.,  479.,\n",
       "        1243.]),\n",
       " array([ 14999. ,  63499.2, 111999.4, 160499.6, 208999.8, 257500. ,\n",
       "        306000.2, 354500.4, 403000.6, 451500.8, 500001. ]),\n",
       " <BarContainer object of 10 artists>)"
      ]
     },
     "execution_count": 9,
     "metadata": {},
     "output_type": "execute_result"
    },
    {
     "data": {
      "image/png": "[encoded data removed]",
      "text/plain": [
       "<Figure size 432x288 with 1 Axes>"
      ]
     },
     "metadata": {
      "needs_background": "light"
     },
     "output_type": "display_data"
    }
   ],
   "source": [
    "plt.hist(housing['median_house_value'])"
   ]
  },
  {
   "cell_type": "code",
   "execution_count": 10,
   "id": "99e348c4",
   "metadata": {
    "scrolled": true
   },
   "outputs": [
    {
     "data": {
      "text/plain": [
       "array([[<AxesSubplot:title={'center':'longitude'}>,\n",
       "        <AxesSubplot:title={'center':'latitude'}>,\n",
       "        <AxesSubplot:title={'center':'housing_median_age'}>],\n",
       "       [<AxesSubplot:title={'center':'total_rooms'}>,\n",
       "        <AxesSubplot:title={'center':'total_bedrooms'}>,\n",
       "        <AxesSubplot:title={'center':'population'}>],\n",
       "       [<AxesSubplot:title={'center':'households'}>,\n",
       "        <AxesSubplot:title={'center':'median_income'}>,\n",
       "        <AxesSubplot:title={'center':'median_house_value'}>]],\n",
       "      dtype=object)"
      ]
     },
     "execution_count": 10,
     "metadata": {},
     "output_type": "execute_result"
    },
    {
     "data": {
      "image/png": "[encoded data removed]",
      "text/plain": [
       "<Figure size 1440x1440 with 9 Axes>"
      ]
     },
     "metadata": {
      "needs_background": "light"
     },
     "output_type": "display_data"
    }
   ],
   "source": [
    "housing.hist(bins = 20, figsize = (20,20))"
   ]
  },
  {
   "cell_type": "markdown",
   "id": "47ca9298",
   "metadata": {},
   "source": [
    "s--radius of the circle represent propulation density, c--colour of the median_house_value"
   ]
  },
  {
   "cell_type": "code",
   "execution_count": 11,
   "id": "de1594bf",
   "metadata": {},
   "outputs": [
    {
     "data": {
      "text/plain": [
       "<AxesSubplot:xlabel='longitude', ylabel='latitude'>"
      ]
     },
     "execution_count": 11,
     "metadata": {},
     "output_type": "execute_result"
    },
    {
     "data": {
      "image/png": "[encoded data removed]",
      "text/plain": [
       "<Figure size 432x288 with 2 Axes>"
      ]
     },
     "metadata": {
      "needs_background": "light"
     },
     "output_type": "display_data"
    }
   ],
   "source": [
    "housing.plot(kind = 'scatter',x = 'longitude',y = 'latitude',s=housing['population']/100,label = 'population',c = 'median_house_value',cmap = 'jet')"
   ]
  },
  {
   "cell_type": "code",
   "execution_count": 12,
   "id": "5e4d1fb3",
   "metadata": {},
   "outputs": [
    {
     "data": {
      "text/plain": [
       "<AxesSubplot:xlabel='median_income', ylabel='median_house_value'>"
      ]
     },
     "execution_count": 12,
     "metadata": {},
     "output_type": "execute_result"
    },
    {
     "data": {
      "image/png": "[encoded data removed]",
      "text/plain": [
       "<Figure size 432x288 with 1 Axes>"
      ]
     },
     "metadata": {
      "needs_background": "light"
     },
     "output_type": "display_data"
    }
   ],
   "source": [
    "housing.plot(kind = 'scatter', x = 'median_income', y = 'median_house_value')"
   ]
  },
  {
   "cell_type": "markdown",
   "id": "7abccf6e",
   "metadata": {},
   "source": [
    "Median income is capped at 500000"
   ]
  },
  {
   "cell_type": "code",
   "execution_count": 13,
   "id": "cc508e6a",
   "metadata": {},
   "outputs": [
    {
     "name": "stderr",
     "output_type": "stream",
     "text": [
      "C:\\Users\\enoch\\anaconda3\\lib\\site-packages\\seaborn\\_decorators.py:36: FutureWarning: Pass the following variable as a keyword arg: x. From version 0.12, the only valid positional argument will be `data`, and passing other arguments without an explicit keyword will result in an error or misinterpretation.\n",
      "  warnings.warn(\n"
     ]
    },
    {
     "data": {
      "text/plain": [
       "<AxesSubplot:xlabel='median_income'>"
      ]
     },
     "execution_count": 13,
     "metadata": {},
     "output_type": "execute_result"
    },
    {
     "data": {
      "image/png": "[encoded data removed]",
      "text/plain": [
       "<Figure size 432x288 with 1 Axes>"
      ]
     },
     "metadata": {
      "needs_background": "light"
     },
     "output_type": "display_data"
    }
   ],
   "source": [
    "sns.boxplot(housing['median_income'])"
   ]
  },
  {
   "cell_type": "markdown",
   "id": "175e78c8",
   "metadata": {},
   "source": [
    "Finding percentage of outliers"
   ]
  },
  {
   "cell_type": "code",
   "execution_count": 14,
   "id": "90846dac",
   "metadata": {},
   "outputs": [
    {
     "data": {
      "text/plain": [
       "3.343023255813953"
      ]
     },
     "execution_count": 14,
     "metadata": {},
     "output_type": "execute_result"
    }
   ],
   "source": [
    "housing[housing['median_income']>8]['median_income'].count()/housing.shape[0]*100"
   ]
  },
  {
   "cell_type": "code",
   "execution_count": 15,
   "id": "ead77ab3",
   "metadata": {},
   "outputs": [
    {
     "data": {
      "text/plain": [
       "3.1250     49\n",
       "15.0001    49\n",
       "2.8750     46\n",
       "2.6250     44\n",
       "4.1250     44\n",
       "           ..\n",
       "5.0476      1\n",
       "4.6379      1\n",
       "2.9402      1\n",
       "6.0256      1\n",
       "5.5647      1\n",
       "Name: median_income, Length: 12928, dtype: int64"
      ]
     },
     "execution_count": 15,
     "metadata": {},
     "output_type": "execute_result"
    }
   ],
   "source": [
    "housing['median_income'].value_counts()"
   ]
  },
  {
   "cell_type": "markdown",
   "id": "532c6853",
   "metadata": {},
   "source": [
    "# Checking for Multicollinearity"
   ]
  },
  {
   "cell_type": "code",
   "execution_count": 16,
   "id": "3c60042a",
   "metadata": {},
   "outputs": [
    {
     "data": {
      "text/html": [
       "<div>\n",
       "<style scoped>\n",
       "    .dataframe tbody tr th:only-of-type {\n",
       "        vertical-align: middle;\n",
       "    }\n",
       "\n",
       "    .dataframe tbody tr th {\n",
       "        vertical-align: top;\n",
       "    }\n",
       "\n",
       "    .dataframe thead th {\n",
       "        text-align: right;\n",
       "    }\n",
       "</style>\n",
       "<table border=\"1\" class=\"dataframe\">\n",
       "  <thead>\n",
       "    <tr style=\"text-align: right;\">\n",
       "      <th></th>\n",
       "      <th>longitude</th>\n",
       "      <th>latitude</th>\n",
       "      <th>housing_median_age</th>\n",
       "      <th>total_rooms</th>\n",
       "      <th>total_bedrooms</th>\n",
       "      <th>population</th>\n",
       "      <th>households</th>\n",
       "      <th>median_income</th>\n",
       "      <th>median_house_value</th>\n",
       "    </tr>\n",
       "  </thead>\n",
       "  <tbody>\n",
       "    <tr>\n",
       "      <th>longitude</th>\n",
       "      <td>1.000000</td>\n",
       "      <td>-0.924664</td>\n",
       "      <td>-0.108197</td>\n",
       "      <td>0.044568</td>\n",
       "      <td>0.069608</td>\n",
       "      <td>0.099773</td>\n",
       "      <td>0.055310</td>\n",
       "      <td>-0.015176</td>\n",
       "      <td>-0.045967</td>\n",
       "    </tr>\n",
       "    <tr>\n",
       "      <th>latitude</th>\n",
       "      <td>-0.924664</td>\n",
       "      <td>1.000000</td>\n",
       "      <td>0.011173</td>\n",
       "      <td>-0.036100</td>\n",
       "      <td>-0.066983</td>\n",
       "      <td>-0.108785</td>\n",
       "      <td>-0.071035</td>\n",
       "      <td>-0.079809</td>\n",
       "      <td>-0.144160</td>\n",
       "    </tr>\n",
       "    <tr>\n",
       "      <th>housing_median_age</th>\n",
       "      <td>-0.108197</td>\n",
       "      <td>0.011173</td>\n",
       "      <td>1.000000</td>\n",
       "      <td>-0.361262</td>\n",
       "      <td>-0.320451</td>\n",
       "      <td>-0.296244</td>\n",
       "      <td>-0.302916</td>\n",
       "      <td>-0.119034</td>\n",
       "      <td>0.105623</td>\n",
       "    </tr>\n",
       "    <tr>\n",
       "      <th>total_rooms</th>\n",
       "      <td>0.044568</td>\n",
       "      <td>-0.036100</td>\n",
       "      <td>-0.361262</td>\n",
       "      <td>1.000000</td>\n",
       "      <td>0.930380</td>\n",
       "      <td>0.857126</td>\n",
       "      <td>0.918484</td>\n",
       "      <td>0.198050</td>\n",
       "      <td>0.134153</td>\n",
       "    </tr>\n",
       "    <tr>\n",
       "      <th>total_bedrooms</th>\n",
       "      <td>0.069608</td>\n",
       "      <td>-0.066983</td>\n",
       "      <td>-0.320451</td>\n",
       "      <td>0.930380</td>\n",
       "      <td>1.000000</td>\n",
       "      <td>0.877747</td>\n",
       "      <td>0.979728</td>\n",
       "      <td>-0.007723</td>\n",
       "      <td>0.049686</td>\n",
       "    </tr>\n",
       "    <tr>\n",
       "      <th>population</th>\n",
       "      <td>0.099773</td>\n",
       "      <td>-0.108785</td>\n",
       "      <td>-0.296244</td>\n",
       "      <td>0.857126</td>\n",
       "      <td>0.877747</td>\n",
       "      <td>1.000000</td>\n",
       "      <td>0.907222</td>\n",
       "      <td>0.004834</td>\n",
       "      <td>-0.024650</td>\n",
       "    </tr>\n",
       "    <tr>\n",
       "      <th>households</th>\n",
       "      <td>0.055310</td>\n",
       "      <td>-0.071035</td>\n",
       "      <td>-0.302916</td>\n",
       "      <td>0.918484</td>\n",
       "      <td>0.979728</td>\n",
       "      <td>0.907222</td>\n",
       "      <td>1.000000</td>\n",
       "      <td>0.013033</td>\n",
       "      <td>0.065843</td>\n",
       "    </tr>\n",
       "    <tr>\n",
       "      <th>median_income</th>\n",
       "      <td>-0.015176</td>\n",
       "      <td>-0.079809</td>\n",
       "      <td>-0.119034</td>\n",
       "      <td>0.198050</td>\n",
       "      <td>-0.007723</td>\n",
       "      <td>0.004834</td>\n",
       "      <td>0.013033</td>\n",
       "      <td>1.000000</td>\n",
       "      <td>0.688075</td>\n",
       "    </tr>\n",
       "    <tr>\n",
       "      <th>median_house_value</th>\n",
       "      <td>-0.045967</td>\n",
       "      <td>-0.144160</td>\n",
       "      <td>0.105623</td>\n",
       "      <td>0.134153</td>\n",
       "      <td>0.049686</td>\n",
       "      <td>-0.024650</td>\n",
       "      <td>0.065843</td>\n",
       "      <td>0.688075</td>\n",
       "      <td>1.000000</td>\n",
       "    </tr>\n",
       "  </tbody>\n",
       "</table>\n",
       "</div>"
      ],
      "text/plain": [
       "                    longitude  latitude  housing_median_age  total_rooms  \\\n",
       "longitude            1.000000 -0.924664           -0.108197     0.044568   \n",
       "latitude            -0.924664  1.000000            0.011173    -0.036100   \n",
       "housing_median_age  -0.108197  0.011173            1.000000    -0.361262   \n",
       "total_rooms          0.044568 -0.036100           -0.361262     1.000000   \n",
       "total_bedrooms       0.069608 -0.066983           -0.320451     0.930380   \n",
       "population           0.099773 -0.108785           -0.296244     0.857126   \n",
       "households           0.055310 -0.071035           -0.302916     0.918484   \n",
       "median_income       -0.015176 -0.079809           -0.119034     0.198050   \n",
       "median_house_value  -0.045967 -0.144160            0.105623     0.134153   \n",
       "\n",
       "                    total_bedrooms  population  households  median_income  \\\n",
       "longitude                 0.069608    0.099773    0.055310      -0.015176   \n",
       "latitude                 -0.066983   -0.108785   -0.071035      -0.079809   \n",
       "housing_median_age       -0.320451   -0.296244   -0.302916      -0.119034   \n",
       "total_rooms               0.930380    0.857126    0.918484       0.198050   \n",
       "total_bedrooms            1.000000    0.877747    0.979728      -0.007723   \n",
       "population                0.877747    1.000000    0.907222       0.004834   \n",
       "households                0.979728    0.907222    1.000000       0.013033   \n",
       "median_income            -0.007723    0.004834    0.013033       1.000000   \n",
       "median_house_value        0.049686   -0.024650    0.065843       0.688075   \n",
       "\n",
       "                    median_house_value  \n",
       "longitude                    -0.045967  \n",
       "latitude                     -0.144160  \n",
       "housing_median_age            0.105623  \n",
       "total_rooms                   0.134153  \n",
       "total_bedrooms                0.049686  \n",
       "population                   -0.024650  \n",
       "households                    0.065843  \n",
       "median_income                 0.688075  \n",
       "median_house_value            1.000000  "
      ]
     },
     "execution_count": 16,
     "metadata": {},
     "output_type": "execute_result"
    }
   ],
   "source": [
    "corr_matrix = housing.corr()\n",
    "corr_matrix"
   ]
  },
  {
   "cell_type": "code",
   "execution_count": 17,
   "id": "e81dbe66",
   "metadata": {},
   "outputs": [
    {
     "data": {
      "text/html": [
       "<style  type=\"text/css\" >\n",
       "#T_40ebc_row0_col0,#T_40ebc_row1_col1,#T_40ebc_row2_col2,#T_40ebc_row3_col3,#T_40ebc_row4_col4,#T_40ebc_row5_col5,#T_40ebc_row6_col6,#T_40ebc_row7_col7,#T_40ebc_row8_col8{\n",
       "            background-color:  #b40426;\n",
       "            color:  #f1f1f1;\n",
       "        }#T_40ebc_row0_col1,#T_40ebc_row1_col0,#T_40ebc_row1_col8,#T_40ebc_row2_col3,#T_40ebc_row2_col4,#T_40ebc_row2_col5,#T_40ebc_row2_col6,#T_40ebc_row2_col7,#T_40ebc_row3_col2{\n",
       "            background-color:  #3b4cc0;\n",
       "            color:  #f1f1f1;\n",
       "        }#T_40ebc_row0_col2{\n",
       "            background-color:  #7699f6;\n",
       "            color:  #000000;\n",
       "        }#T_40ebc_row0_col3{\n",
       "            background-color:  #9ebeff;\n",
       "            color:  #000000;\n",
       "        }#T_40ebc_row0_col4{\n",
       "            background-color:  #9dbdff;\n",
       "            color:  #000000;\n",
       "        }#T_40ebc_row0_col5{\n",
       "            background-color:  #a1c0ff;\n",
       "            color:  #000000;\n",
       "        }#T_40ebc_row0_col6,#T_40ebc_row1_col2{\n",
       "            background-color:  #96b7ff;\n",
       "            color:  #000000;\n",
       "        }#T_40ebc_row0_col7{\n",
       "            background-color:  #5673e0;\n",
       "            color:  #000000;\n",
       "        }#T_40ebc_row0_col8{\n",
       "            background-color:  #5470de;\n",
       "            color:  #000000;\n",
       "        }#T_40ebc_row1_col3{\n",
       "            background-color:  #89acfd;\n",
       "            color:  #000000;\n",
       "        }#T_40ebc_row1_col4{\n",
       "            background-color:  #799cf8;\n",
       "            color:  #000000;\n",
       "        }#T_40ebc_row1_col5{\n",
       "            background-color:  #688aef;\n",
       "            color:  #000000;\n",
       "        }#T_40ebc_row1_col6,#T_40ebc_row7_col2{\n",
       "            background-color:  #7396f5;\n",
       "            color:  #000000;\n",
       "        }#T_40ebc_row1_col7{\n",
       "            background-color:  #445acc;\n",
       "            color:  #f1f1f1;\n",
       "        }#T_40ebc_row2_col0,#T_40ebc_row5_col1{\n",
       "            background-color:  #c7d7f0;\n",
       "            color:  #000000;\n",
       "        }#T_40ebc_row2_col1{\n",
       "            background-color:  #d9dce1;\n",
       "            color:  #000000;\n",
       "        }#T_40ebc_row2_col8{\n",
       "            background-color:  #81a4fb;\n",
       "            color:  #000000;\n",
       "        }#T_40ebc_row3_col0{\n",
       "            background-color:  #dddcdc;\n",
       "            color:  #000000;\n",
       "        }#T_40ebc_row3_col1{\n",
       "            background-color:  #d3dbe7;\n",
       "            color:  #000000;\n",
       "        }#T_40ebc_row3_col4,#T_40ebc_row4_col3{\n",
       "            background-color:  #c73635;\n",
       "            color:  #f1f1f1;\n",
       "        }#T_40ebc_row3_col5{\n",
       "            background-color:  #d95847;\n",
       "            color:  #000000;\n",
       "        }#T_40ebc_row3_col6{\n",
       "            background-color:  #cb3e38;\n",
       "            color:  #f1f1f1;\n",
       "        }#T_40ebc_row3_col7,#T_40ebc_row8_col6{\n",
       "            background-color:  #98b9ff;\n",
       "            color:  #000000;\n",
       "        }#T_40ebc_row3_col8,#T_40ebc_row7_col6{\n",
       "            background-color:  #8badfd;\n",
       "            color:  #000000;\n",
       "        }#T_40ebc_row4_col0{\n",
       "            background-color:  #e1dad6;\n",
       "            color:  #000000;\n",
       "        }#T_40ebc_row4_col1{\n",
       "            background-color:  #cedaeb;\n",
       "            color:  #000000;\n",
       "        }#T_40ebc_row4_col2{\n",
       "            background-color:  #4358cb;\n",
       "            color:  #f1f1f1;\n",
       "        }#T_40ebc_row4_col5{\n",
       "            background-color:  #d55042;\n",
       "            color:  #000000;\n",
       "        }#T_40ebc_row4_col6,#T_40ebc_row6_col4{\n",
       "            background-color:  #b8122a;\n",
       "            color:  #f1f1f1;\n",
       "        }#T_40ebc_row4_col7{\n",
       "            background-color:  #5977e3;\n",
       "            color:  #000000;\n",
       "        }#T_40ebc_row4_col8{\n",
       "            background-color:  #7093f3;\n",
       "            color:  #000000;\n",
       "        }#T_40ebc_row5_col0{\n",
       "            background-color:  #e5d8d1;\n",
       "            color:  #000000;\n",
       "        }#T_40ebc_row5_col2{\n",
       "            background-color:  #4961d2;\n",
       "            color:  #f1f1f1;\n",
       "        }#T_40ebc_row5_col3{\n",
       "            background-color:  #d75445;\n",
       "            color:  #000000;\n",
       "        }#T_40ebc_row5_col4{\n",
       "            background-color:  #d44e41;\n",
       "            color:  #000000;\n",
       "        }#T_40ebc_row5_col6,#T_40ebc_row6_col5{\n",
       "            background-color:  #cd423b;\n",
       "            color:  #f1f1f1;\n",
       "        }#T_40ebc_row5_col7{\n",
       "            background-color:  #5d7ce6;\n",
       "            color:  #000000;\n",
       "        }#T_40ebc_row5_col8{\n",
       "            background-color:  #5a78e4;\n",
       "            color:  #000000;\n",
       "        }#T_40ebc_row6_col0{\n",
       "            background-color:  #dfdbd9;\n",
       "            color:  #000000;\n",
       "        }#T_40ebc_row6_col1{\n",
       "            background-color:  #cdd9ec;\n",
       "            color:  #000000;\n",
       "        }#T_40ebc_row6_col2{\n",
       "            background-color:  #465ecf;\n",
       "            color:  #f1f1f1;\n",
       "        }#T_40ebc_row6_col3{\n",
       "            background-color:  #ca3b37;\n",
       "            color:  #f1f1f1;\n",
       "        }#T_40ebc_row6_col7{\n",
       "            background-color:  #5f7fe8;\n",
       "            color:  #000000;\n",
       "        }#T_40ebc_row6_col8{\n",
       "            background-color:  #7597f6;\n",
       "            color:  #000000;\n",
       "        }#T_40ebc_row7_col0{\n",
       "            background-color:  #d5dbe5;\n",
       "            color:  #000000;\n",
       "        }#T_40ebc_row7_col1{\n",
       "            background-color:  #ccd9ed;\n",
       "            color:  #000000;\n",
       "        }#T_40ebc_row7_col3{\n",
       "            background-color:  #c4d5f3;\n",
       "            color:  #000000;\n",
       "        }#T_40ebc_row7_col4{\n",
       "            background-color:  #88abfd;\n",
       "            color:  #000000;\n",
       "        }#T_40ebc_row7_col5{\n",
       "            background-color:  #86a9fc;\n",
       "            color:  #000000;\n",
       "        }#T_40ebc_row7_col8{\n",
       "            background-color:  #f6a283;\n",
       "            color:  #000000;\n",
       "        }#T_40ebc_row8_col0{\n",
       "            background-color:  #d1dae9;\n",
       "            color:  #000000;\n",
       "        }#T_40ebc_row8_col1{\n",
       "            background-color:  #c1d4f4;\n",
       "            color:  #000000;\n",
       "        }#T_40ebc_row8_col2{\n",
       "            background-color:  #adc9fd;\n",
       "            color:  #000000;\n",
       "        }#T_40ebc_row8_col3{\n",
       "            background-color:  #b5cdfa;\n",
       "            color:  #000000;\n",
       "        }#T_40ebc_row8_col4{\n",
       "            background-color:  #97b8ff;\n",
       "            color:  #000000;\n",
       "        }#T_40ebc_row8_col5{\n",
       "            background-color:  #7ea1fa;\n",
       "            color:  #000000;\n",
       "        }#T_40ebc_row8_col7{\n",
       "            background-color:  #f6a586;\n",
       "            color:  #000000;\n",
       "        }</style><table id=\"T_40ebc_\" ><thead>    <tr>        <th class=\"blank level0\" ></th>        <th class=\"col_heading level0 col0\" >longitude</th>        <th class=\"col_heading level0 col1\" >latitude</th>        <th class=\"col_heading level0 col2\" >housing_median_age</th>        <th class=\"col_heading level0 col3\" >total_rooms</th>        <th class=\"col_heading level0 col4\" >total_bedrooms</th>        <th class=\"col_heading level0 col5\" >population</th>        <th class=\"col_heading level0 col6\" >households</th>        <th class=\"col_heading level0 col7\" >median_income</th>        <th class=\"col_heading level0 col8\" >median_house_value</th>    </tr></thead><tbody>\n",
       "                <tr>\n",
       "                        <th id=\"T_40ebc_level0_row0\" class=\"row_heading level0 row0\" >longitude</th>\n",
       "                        <td id=\"T_40ebc_row0_col0\" class=\"data row0 col0\" >1.000000</td>\n",
       "                        <td id=\"T_40ebc_row0_col1\" class=\"data row0 col1\" >-0.924664</td>\n",
       "                        <td id=\"T_40ebc_row0_col2\" class=\"data row0 col2\" >-0.108197</td>\n",
       "                        <td id=\"T_40ebc_row0_col3\" class=\"data row0 col3\" >0.044568</td>\n",
       "                        <td id=\"T_40ebc_row0_col4\" class=\"data row0 col4\" >0.069608</td>\n",
       "                        <td id=\"T_40ebc_row0_col5\" class=\"data row0 col5\" >0.099773</td>\n",
       "                        <td id=\"T_40ebc_row0_col6\" class=\"data row0 col6\" >0.055310</td>\n",
       "                        <td id=\"T_40ebc_row0_col7\" class=\"data row0 col7\" >-0.015176</td>\n",
       "                        <td id=\"T_40ebc_row0_col8\" class=\"data row0 col8\" >-0.045967</td>\n",
       "            </tr>\n",
       "            <tr>\n",
       "                        <th id=\"T_40ebc_level0_row1\" class=\"row_heading level0 row1\" >latitude</th>\n",
       "                        <td id=\"T_40ebc_row1_col0\" class=\"data row1 col0\" >-0.924664</td>\n",
       "                        <td id=\"T_40ebc_row1_col1\" class=\"data row1 col1\" >1.000000</td>\n",
       "                        <td id=\"T_40ebc_row1_col2\" class=\"data row1 col2\" >0.011173</td>\n",
       "                        <td id=\"T_40ebc_row1_col3\" class=\"data row1 col3\" >-0.036100</td>\n",
       "                        <td id=\"T_40ebc_row1_col4\" class=\"data row1 col4\" >-0.066983</td>\n",
       "                        <td id=\"T_40ebc_row1_col5\" class=\"data row1 col5\" >-0.108785</td>\n",
       "                        <td id=\"T_40ebc_row1_col6\" class=\"data row1 col6\" >-0.071035</td>\n",
       "                        <td id=\"T_40ebc_row1_col7\" class=\"data row1 col7\" >-0.079809</td>\n",
       "                        <td id=\"T_40ebc_row1_col8\" class=\"data row1 col8\" >-0.144160</td>\n",
       "            </tr>\n",
       "            <tr>\n",
       "                        <th id=\"T_40ebc_level0_row2\" class=\"row_heading level0 row2\" >housing_median_age</th>\n",
       "                        <td id=\"T_40ebc_row2_col0\" class=\"data row2 col0\" >-0.108197</td>\n",
       "                        <td id=\"T_40ebc_row2_col1\" class=\"data row2 col1\" >0.011173</td>\n",
       "                        <td id=\"T_40ebc_row2_col2\" class=\"data row2 col2\" >1.000000</td>\n",
       "                        <td id=\"T_40ebc_row2_col3\" class=\"data row2 col3\" >-0.361262</td>\n",
       "                        <td id=\"T_40ebc_row2_col4\" class=\"data row2 col4\" >-0.320451</td>\n",
       "                        <td id=\"T_40ebc_row2_col5\" class=\"data row2 col5\" >-0.296244</td>\n",
       "                        <td id=\"T_40ebc_row2_col6\" class=\"data row2 col6\" >-0.302916</td>\n",
       "                        <td id=\"T_40ebc_row2_col7\" class=\"data row2 col7\" >-0.119034</td>\n",
       "                        <td id=\"T_40ebc_row2_col8\" class=\"data row2 col8\" >0.105623</td>\n",
       "            </tr>\n",
       "            <tr>\n",
       "                        <th id=\"T_40ebc_level0_row3\" class=\"row_heading level0 row3\" >total_rooms</th>\n",
       "                        <td id=\"T_40ebc_row3_col0\" class=\"data row3 col0\" >0.044568</td>\n",
       "                        <td id=\"T_40ebc_row3_col1\" class=\"data row3 col1\" >-0.036100</td>\n",
       "                        <td id=\"T_40ebc_row3_col2\" class=\"data row3 col2\" >-0.361262</td>\n",
       "                        <td id=\"T_40ebc_row3_col3\" class=\"data row3 col3\" >1.000000</td>\n",
       "                        <td id=\"T_40ebc_row3_col4\" class=\"data row3 col4\" >0.930380</td>\n",
       "                        <td id=\"T_40ebc_row3_col5\" class=\"data row3 col5\" >0.857126</td>\n",
       "                        <td id=\"T_40ebc_row3_col6\" class=\"data row3 col6\" >0.918484</td>\n",
       "                        <td id=\"T_40ebc_row3_col7\" class=\"data row3 col7\" >0.198050</td>\n",
       "                        <td id=\"T_40ebc_row3_col8\" class=\"data row3 col8\" >0.134153</td>\n",
       "            </tr>\n",
       "            <tr>\n",
       "                        <th id=\"T_40ebc_level0_row4\" class=\"row_heading level0 row4\" >total_bedrooms</th>\n",
       "                        <td id=\"T_40ebc_row4_col0\" class=\"data row4 col0\" >0.069608</td>\n",
       "                        <td id=\"T_40ebc_row4_col1\" class=\"data row4 col1\" >-0.066983</td>\n",
       "                        <td id=\"T_40ebc_row4_col2\" class=\"data row4 col2\" >-0.320451</td>\n",
       "                        <td id=\"T_40ebc_row4_col3\" class=\"data row4 col3\" >0.930380</td>\n",
       "                        <td id=\"T_40ebc_row4_col4\" class=\"data row4 col4\" >1.000000</td>\n",
       "                        <td id=\"T_40ebc_row4_col5\" class=\"data row4 col5\" >0.877747</td>\n",
       "                        <td id=\"T_40ebc_row4_col6\" class=\"data row4 col6\" >0.979728</td>\n",
       "                        <td id=\"T_40ebc_row4_col7\" class=\"data row4 col7\" >-0.007723</td>\n",
       "                        <td id=\"T_40ebc_row4_col8\" class=\"data row4 col8\" >0.049686</td>\n",
       "            </tr>\n",
       "            <tr>\n",
       "                        <th id=\"T_40ebc_level0_row5\" class=\"row_heading level0 row5\" >population</th>\n",
       "                        <td id=\"T_40ebc_row5_col0\" class=\"data row5 col0\" >0.099773</td>\n",
       "                        <td id=\"T_40ebc_row5_col1\" class=\"data row5 col1\" >-0.108785</td>\n",
       "                        <td id=\"T_40ebc_row5_col2\" class=\"data row5 col2\" >-0.296244</td>\n",
       "                        <td id=\"T_40ebc_row5_col3\" class=\"data row5 col3\" >0.857126</td>\n",
       "                        <td id=\"T_40ebc_row5_col4\" class=\"data row5 col4\" >0.877747</td>\n",
       "                        <td id=\"T_40ebc_row5_col5\" class=\"data row5 col5\" >1.000000</td>\n",
       "                        <td id=\"T_40ebc_row5_col6\" class=\"data row5 col6\" >0.907222</td>\n",
       "                        <td id=\"T_40ebc_row5_col7\" class=\"data row5 col7\" >0.004834</td>\n",
       "                        <td id=\"T_40ebc_row5_col8\" class=\"data row5 col8\" >-0.024650</td>\n",
       "            </tr>\n",
       "            <tr>\n",
       "                        <th id=\"T_40ebc_level0_row6\" class=\"row_heading level0 row6\" >households</th>\n",
       "                        <td id=\"T_40ebc_row6_col0\" class=\"data row6 col0\" >0.055310</td>\n",
       "                        <td id=\"T_40ebc_row6_col1\" class=\"data row6 col1\" >-0.071035</td>\n",
       "                        <td id=\"T_40ebc_row6_col2\" class=\"data row6 col2\" >-0.302916</td>\n",
       "                        <td id=\"T_40ebc_row6_col3\" class=\"data row6 col3\" >0.918484</td>\n",
       "                        <td id=\"T_40ebc_row6_col4\" class=\"data row6 col4\" >0.979728</td>\n",
       "                        <td id=\"T_40ebc_row6_col5\" class=\"data row6 col5\" >0.907222</td>\n",
       "                        <td id=\"T_40ebc_row6_col6\" class=\"data row6 col6\" >1.000000</td>\n",
       "                        <td id=\"T_40ebc_row6_col7\" class=\"data row6 col7\" >0.013033</td>\n",
       "                        <td id=\"T_40ebc_row6_col8\" class=\"data row6 col8\" >0.065843</td>\n",
       "            </tr>\n",
       "            <tr>\n",
       "                        <th id=\"T_40ebc_level0_row7\" class=\"row_heading level0 row7\" >median_income</th>\n",
       "                        <td id=\"T_40ebc_row7_col0\" class=\"data row7 col0\" >-0.015176</td>\n",
       "                        <td id=\"T_40ebc_row7_col1\" class=\"data row7 col1\" >-0.079809</td>\n",
       "                        <td id=\"T_40ebc_row7_col2\" class=\"data row7 col2\" >-0.119034</td>\n",
       "                        <td id=\"T_40ebc_row7_col3\" class=\"data row7 col3\" >0.198050</td>\n",
       "                        <td id=\"T_40ebc_row7_col4\" class=\"data row7 col4\" >-0.007723</td>\n",
       "                        <td id=\"T_40ebc_row7_col5\" class=\"data row7 col5\" >0.004834</td>\n",
       "                        <td id=\"T_40ebc_row7_col6\" class=\"data row7 col6\" >0.013033</td>\n",
       "                        <td id=\"T_40ebc_row7_col7\" class=\"data row7 col7\" >1.000000</td>\n",
       "                        <td id=\"T_40ebc_row7_col8\" class=\"data row7 col8\" >0.688075</td>\n",
       "            </tr>\n",
       "            <tr>\n",
       "                        <th id=\"T_40ebc_level0_row8\" class=\"row_heading level0 row8\" >median_house_value</th>\n",
       "                        <td id=\"T_40ebc_row8_col0\" class=\"data row8 col0\" >-0.045967</td>\n",
       "                        <td id=\"T_40ebc_row8_col1\" class=\"data row8 col1\" >-0.144160</td>\n",
       "                        <td id=\"T_40ebc_row8_col2\" class=\"data row8 col2\" >0.105623</td>\n",
       "                        <td id=\"T_40ebc_row8_col3\" class=\"data row8 col3\" >0.134153</td>\n",
       "                        <td id=\"T_40ebc_row8_col4\" class=\"data row8 col4\" >0.049686</td>\n",
       "                        <td id=\"T_40ebc_row8_col5\" class=\"data row8 col5\" >-0.024650</td>\n",
       "                        <td id=\"T_40ebc_row8_col6\" class=\"data row8 col6\" >0.065843</td>\n",
       "                        <td id=\"T_40ebc_row8_col7\" class=\"data row8 col7\" >0.688075</td>\n",
       "                        <td id=\"T_40ebc_row8_col8\" class=\"data row8 col8\" >1.000000</td>\n",
       "            </tr>\n",
       "    </tbody></table>"
      ],
      "text/plain": [
       "<pandas.io.formats.style.Styler at 0x1c5b6e7d0a0>"
      ]
     },
     "execution_count": 17,
     "metadata": {},
     "output_type": "execute_result"
    }
   ],
   "source": [
    "corr_matrix.style.background_gradient(cmap='coolwarm')"
   ]
  },
  {
   "cell_type": "markdown",
   "id": "2564b854",
   "metadata": {},
   "source": [
    "Fixing Multicollinearity"
   ]
  },
  {
   "cell_type": "code",
   "execution_count": 18,
   "id": "7175d37e",
   "metadata": {},
   "outputs": [],
   "source": [
    "housing['rooms_per_household'] = housing['total_rooms']/housing['households']"
   ]
  },
  {
   "cell_type": "code",
   "execution_count": 19,
   "id": "ac85e7a4",
   "metadata": {},
   "outputs": [],
   "source": [
    "housing['bedrooms_per_rooms'] = housing['total_bedrooms']/housing['total_rooms']\n",
    "housing['population_per_household'] = housing['population']/housing['households']"
   ]
  },
  {
   "cell_type": "code",
   "execution_count": 20,
   "id": "4da6700d",
   "metadata": {},
   "outputs": [
    {
     "data": {
      "text/html": [
       "<div>\n",
       "<style scoped>\n",
       "    .dataframe tbody tr th:only-of-type {\n",
       "        vertical-align: middle;\n",
       "    }\n",
       "\n",
       "    .dataframe tbody tr th {\n",
       "        vertical-align: top;\n",
       "    }\n",
       "\n",
       "    .dataframe thead th {\n",
       "        text-align: right;\n",
       "    }\n",
       "</style>\n",
       "<table border=\"1\" class=\"dataframe\">\n",
       "  <thead>\n",
       "    <tr style=\"text-align: right;\">\n",
       "      <th></th>\n",
       "      <th>longitude</th>\n",
       "      <th>latitude</th>\n",
       "      <th>housing_median_age</th>\n",
       "      <th>total_rooms</th>\n",
       "      <th>total_bedrooms</th>\n",
       "      <th>population</th>\n",
       "      <th>households</th>\n",
       "      <th>median_income</th>\n",
       "      <th>median_house_value</th>\n",
       "      <th>ocean_proximity</th>\n",
       "      <th>rooms_per_household</th>\n",
       "      <th>bedrooms_per_rooms</th>\n",
       "      <th>population_per_household</th>\n",
       "    </tr>\n",
       "  </thead>\n",
       "  <tbody>\n",
       "    <tr>\n",
       "      <th>0</th>\n",
       "      <td>-122.23</td>\n",
       "      <td>37.88</td>\n",
       "      <td>41</td>\n",
       "      <td>880</td>\n",
       "      <td>129.0</td>\n",
       "      <td>322</td>\n",
       "      <td>126</td>\n",
       "      <td>8.3252</td>\n",
       "      <td>452600</td>\n",
       "      <td>NEAR BAY</td>\n",
       "      <td>6.984127</td>\n",
       "      <td>0.146591</td>\n",
       "      <td>2.555556</td>\n",
       "    </tr>\n",
       "    <tr>\n",
       "      <th>1</th>\n",
       "      <td>-122.22</td>\n",
       "      <td>37.86</td>\n",
       "      <td>21</td>\n",
       "      <td>7099</td>\n",
       "      <td>1106.0</td>\n",
       "      <td>2401</td>\n",
       "      <td>1138</td>\n",
       "      <td>8.3014</td>\n",
       "      <td>358500</td>\n",
       "      <td>NEAR BAY</td>\n",
       "      <td>6.238137</td>\n",
       "      <td>0.155797</td>\n",
       "      <td>2.109842</td>\n",
       "    </tr>\n",
       "    <tr>\n",
       "      <th>2</th>\n",
       "      <td>-122.24</td>\n",
       "      <td>37.85</td>\n",
       "      <td>52</td>\n",
       "      <td>1467</td>\n",
       "      <td>190.0</td>\n",
       "      <td>496</td>\n",
       "      <td>177</td>\n",
       "      <td>7.2574</td>\n",
       "      <td>352100</td>\n",
       "      <td>NEAR BAY</td>\n",
       "      <td>8.288136</td>\n",
       "      <td>0.129516</td>\n",
       "      <td>2.802260</td>\n",
       "    </tr>\n",
       "    <tr>\n",
       "      <th>3</th>\n",
       "      <td>-122.25</td>\n",
       "      <td>37.85</td>\n",
       "      <td>52</td>\n",
       "      <td>1274</td>\n",
       "      <td>235.0</td>\n",
       "      <td>558</td>\n",
       "      <td>219</td>\n",
       "      <td>5.6431</td>\n",
       "      <td>341300</td>\n",
       "      <td>NEAR BAY</td>\n",
       "      <td>5.817352</td>\n",
       "      <td>0.184458</td>\n",
       "      <td>2.547945</td>\n",
       "    </tr>\n",
       "    <tr>\n",
       "      <th>4</th>\n",
       "      <td>-122.25</td>\n",
       "      <td>37.85</td>\n",
       "      <td>52</td>\n",
       "      <td>1627</td>\n",
       "      <td>280.0</td>\n",
       "      <td>565</td>\n",
       "      <td>259</td>\n",
       "      <td>3.8462</td>\n",
       "      <td>342200</td>\n",
       "      <td>NEAR BAY</td>\n",
       "      <td>6.281853</td>\n",
       "      <td>0.172096</td>\n",
       "      <td>2.181467</td>\n",
       "    </tr>\n",
       "    <tr>\n",
       "      <th>...</th>\n",
       "      <td>...</td>\n",
       "      <td>...</td>\n",
       "      <td>...</td>\n",
       "      <td>...</td>\n",
       "      <td>...</td>\n",
       "      <td>...</td>\n",
       "      <td>...</td>\n",
       "      <td>...</td>\n",
       "      <td>...</td>\n",
       "      <td>...</td>\n",
       "      <td>...</td>\n",
       "      <td>...</td>\n",
       "      <td>...</td>\n",
       "    </tr>\n",
       "    <tr>\n",
       "      <th>20635</th>\n",
       "      <td>-121.09</td>\n",
       "      <td>39.48</td>\n",
       "      <td>25</td>\n",
       "      <td>1665</td>\n",
       "      <td>374.0</td>\n",
       "      <td>845</td>\n",
       "      <td>330</td>\n",
       "      <td>1.5603</td>\n",
       "      <td>78100</td>\n",
       "      <td>INLAND</td>\n",
       "      <td>5.045455</td>\n",
       "      <td>0.224625</td>\n",
       "      <td>2.560606</td>\n",
       "    </tr>\n",
       "    <tr>\n",
       "      <th>20636</th>\n",
       "      <td>-121.21</td>\n",
       "      <td>39.49</td>\n",
       "      <td>18</td>\n",
       "      <td>697</td>\n",
       "      <td>150.0</td>\n",
       "      <td>356</td>\n",
       "      <td>114</td>\n",
       "      <td>2.5568</td>\n",
       "      <td>77100</td>\n",
       "      <td>INLAND</td>\n",
       "      <td>6.114035</td>\n",
       "      <td>0.215208</td>\n",
       "      <td>3.122807</td>\n",
       "    </tr>\n",
       "    <tr>\n",
       "      <th>20637</th>\n",
       "      <td>-121.22</td>\n",
       "      <td>39.43</td>\n",
       "      <td>17</td>\n",
       "      <td>2254</td>\n",
       "      <td>485.0</td>\n",
       "      <td>1007</td>\n",
       "      <td>433</td>\n",
       "      <td>1.7000</td>\n",
       "      <td>92300</td>\n",
       "      <td>INLAND</td>\n",
       "      <td>5.205543</td>\n",
       "      <td>0.215173</td>\n",
       "      <td>2.325635</td>\n",
       "    </tr>\n",
       "    <tr>\n",
       "      <th>20638</th>\n",
       "      <td>-121.32</td>\n",
       "      <td>39.43</td>\n",
       "      <td>18</td>\n",
       "      <td>1860</td>\n",
       "      <td>409.0</td>\n",
       "      <td>741</td>\n",
       "      <td>349</td>\n",
       "      <td>1.8672</td>\n",
       "      <td>84700</td>\n",
       "      <td>INLAND</td>\n",
       "      <td>5.329513</td>\n",
       "      <td>0.219892</td>\n",
       "      <td>2.123209</td>\n",
       "    </tr>\n",
       "    <tr>\n",
       "      <th>20639</th>\n",
       "      <td>-121.24</td>\n",
       "      <td>39.37</td>\n",
       "      <td>16</td>\n",
       "      <td>2785</td>\n",
       "      <td>616.0</td>\n",
       "      <td>1387</td>\n",
       "      <td>530</td>\n",
       "      <td>2.3886</td>\n",
       "      <td>89400</td>\n",
       "      <td>INLAND</td>\n",
       "      <td>5.254717</td>\n",
       "      <td>0.221185</td>\n",
       "      <td>2.616981</td>\n",
       "    </tr>\n",
       "  </tbody>\n",
       "</table>\n",
       "<p>20640 rows × 13 columns</p>\n",
       "</div>"
      ],
      "text/plain": [
       "       longitude  latitude  housing_median_age  total_rooms  total_bedrooms  \\\n",
       "0        -122.23     37.88                  41          880           129.0   \n",
       "1        -122.22     37.86                  21         7099          1106.0   \n",
       "2        -122.24     37.85                  52         1467           190.0   \n",
       "3        -122.25     37.85                  52         1274           235.0   \n",
       "4        -122.25     37.85                  52         1627           280.0   \n",
       "...          ...       ...                 ...          ...             ...   \n",
       "20635    -121.09     39.48                  25         1665           374.0   \n",
       "20636    -121.21     39.49                  18          697           150.0   \n",
       "20637    -121.22     39.43                  17         2254           485.0   \n",
       "20638    -121.32     39.43                  18         1860           409.0   \n",
       "20639    -121.24     39.37                  16         2785           616.0   \n",
       "\n",
       "       population  households  median_income  median_house_value  \\\n",
       "0             322         126         8.3252              452600   \n",
       "1            2401        1138         8.3014              358500   \n",
       "2             496         177         7.2574              352100   \n",
       "3             558         219         5.6431              341300   \n",
       "4             565         259         3.8462              342200   \n",
       "...           ...         ...            ...                 ...   \n",
       "20635         845         330         1.5603               78100   \n",
       "20636         356         114         2.5568               77100   \n",
       "20637        1007         433         1.7000               92300   \n",
       "20638         741         349         1.8672               84700   \n",
       "20639        1387         530         2.3886               89400   \n",
       "\n",
       "      ocean_proximity  rooms_per_household  bedrooms_per_rooms  \\\n",
       "0            NEAR BAY             6.984127            0.146591   \n",
       "1            NEAR BAY             6.238137            0.155797   \n",
       "2            NEAR BAY             8.288136            0.129516   \n",
       "3            NEAR BAY             5.817352            0.184458   \n",
       "4            NEAR BAY             6.281853            0.172096   \n",
       "...               ...                  ...                 ...   \n",
       "20635          INLAND             5.045455            0.224625   \n",
       "20636          INLAND             6.114035            0.215208   \n",
       "20637          INLAND             5.205543            0.215173   \n",
       "20638          INLAND             5.329513            0.219892   \n",
       "20639          INLAND             5.254717            0.221185   \n",
       "\n",
       "       population_per_household  \n",
       "0                      2.555556  \n",
       "1                      2.109842  \n",
       "2                      2.802260  \n",
       "3                      2.547945  \n",
       "4                      2.181467  \n",
       "...                         ...  \n",
       "20635                  2.560606  \n",
       "20636                  3.122807  \n",
       "20637                  2.325635  \n",
       "20638                  2.123209  \n",
       "20639                  2.616981  \n",
       "\n",
       "[20640 rows x 13 columns]"
      ]
     },
     "execution_count": 20,
     "metadata": {},
     "output_type": "execute_result"
    }
   ],
   "source": [
    "housing"
   ]
  },
  {
   "cell_type": "code",
   "execution_count": 21,
   "id": "cf2c85ab",
   "metadata": {},
   "outputs": [],
   "source": [
    "housing = housing.drop(columns = ['total_rooms','total_bedrooms','population'])"
   ]
  },
  {
   "cell_type": "code",
   "execution_count": 22,
   "id": "ad31a244",
   "metadata": {},
   "outputs": [
    {
     "data": {
      "text/html": [
       "<style  type=\"text/css\" >\n",
       "#T_6e643_row0_col0,#T_6e643_row1_col1,#T_6e643_row2_col2,#T_6e643_row3_col3,#T_6e643_row4_col4,#T_6e643_row5_col5,#T_6e643_row6_col6,#T_6e643_row7_col7,#T_6e643_row8_col8{\n",
       "            background-color:  #b40426;\n",
       "            color:  #f1f1f1;\n",
       "        }#T_6e643_row0_col1,#T_6e643_row1_col0,#T_6e643_row2_col3,#T_6e643_row3_col2,#T_6e643_row3_col8,#T_6e643_row4_col7,#T_6e643_row5_col8,#T_6e643_row7_col4,#T_6e643_row7_col5,#T_6e643_row7_col6{\n",
       "            background-color:  #3b4cc0;\n",
       "            color:  #f1f1f1;\n",
       "        }#T_6e643_row0_col2{\n",
       "            background-color:  #6a8bef;\n",
       "            color:  #000000;\n",
       "        }#T_6e643_row0_col3,#T_6e643_row0_col6{\n",
       "            background-color:  #96b7ff;\n",
       "            color:  #000000;\n",
       "        }#T_6e643_row0_col4{\n",
       "            background-color:  #b7cff9;\n",
       "            color:  #000000;\n",
       "        }#T_6e643_row0_col5{\n",
       "            background-color:  #6f92f3;\n",
       "            color:  #000000;\n",
       "        }#T_6e643_row0_col7,#T_6e643_row4_col1{\n",
       "            background-color:  #ccd9ed;\n",
       "            color:  #000000;\n",
       "        }#T_6e643_row0_col8,#T_6e643_row1_col8,#T_6e643_row7_col8{\n",
       "            background-color:  #4358cb;\n",
       "            color:  #f1f1f1;\n",
       "        }#T_6e643_row1_col2{\n",
       "            background-color:  #89acfd;\n",
       "            color:  #000000;\n",
       "        }#T_6e643_row1_col3{\n",
       "            background-color:  #7396f5;\n",
       "            color:  #000000;\n",
       "        }#T_6e643_row1_col4{\n",
       "            background-color:  #a9c6fd;\n",
       "            color:  #000000;\n",
       "        }#T_6e643_row1_col5{\n",
       "            background-color:  #5572df;\n",
       "            color:  #000000;\n",
       "        }#T_6e643_row1_col6{\n",
       "            background-color:  #b6cefa;\n",
       "            color:  #000000;\n",
       "        }#T_6e643_row1_col7{\n",
       "            background-color:  #a2c1ff;\n",
       "            color:  #000000;\n",
       "        }#T_6e643_row2_col0{\n",
       "            background-color:  #c7d7f0;\n",
       "            color:  #000000;\n",
       "        }#T_6e643_row2_col1{\n",
       "            background-color:  #d9dce1;\n",
       "            color:  #000000;\n",
       "        }#T_6e643_row2_col4{\n",
       "            background-color:  #a1c0ff;\n",
       "            color:  #000000;\n",
       "        }#T_6e643_row2_col5{\n",
       "            background-color:  #9abbff;\n",
       "            color:  #000000;\n",
       "        }#T_6e643_row2_col6,#T_6e643_row8_col5{\n",
       "            background-color:  #7699f6;\n",
       "            color:  #000000;\n",
       "        }#T_6e643_row2_col7,#T_6e643_row6_col0{\n",
       "            background-color:  #d4dbe6;\n",
       "            color:  #000000;\n",
       "        }#T_6e643_row2_col8{\n",
       "            background-color:  #465ecf;\n",
       "            color:  #f1f1f1;\n",
       "        }#T_6e643_row3_col0{\n",
       "            background-color:  #dfdbd9;\n",
       "            color:  #000000;\n",
       "        }#T_6e643_row3_col1{\n",
       "            background-color:  #cdd9ec;\n",
       "            color:  #000000;\n",
       "        }#T_6e643_row3_col4{\n",
       "            background-color:  #bcd2f7;\n",
       "            color:  #000000;\n",
       "        }#T_6e643_row3_col5{\n",
       "            background-color:  #8fb1fe;\n",
       "            color:  #000000;\n",
       "        }#T_6e643_row3_col6{\n",
       "            background-color:  #88abfd;\n",
       "            color:  #000000;\n",
       "        }#T_6e643_row3_col7,#T_6e643_row7_col1{\n",
       "            background-color:  #c6d6f1;\n",
       "            color:  #000000;\n",
       "        }#T_6e643_row4_col0{\n",
       "            background-color:  #d5dbe5;\n",
       "            color:  #000000;\n",
       "        }#T_6e643_row4_col2{\n",
       "            background-color:  #6788ee;\n",
       "            color:  #000000;\n",
       "        }#T_6e643_row4_col3,#T_6e643_row8_col2{\n",
       "            background-color:  #8badfd;\n",
       "            color:  #000000;\n",
       "        }#T_6e643_row4_col5{\n",
       "            background-color:  #f4987a;\n",
       "            color:  #000000;\n",
       "        }#T_6e643_row4_col6{\n",
       "            background-color:  #e3d9d3;\n",
       "            color:  #000000;\n",
       "        }#T_6e643_row4_col8{\n",
       "            background-color:  #485fd1;\n",
       "            color:  #f1f1f1;\n",
       "        }#T_6e643_row5_col0{\n",
       "            background-color:  #d1dae9;\n",
       "            color:  #000000;\n",
       "        }#T_6e643_row5_col1{\n",
       "            background-color:  #c1d4f4;\n",
       "            color:  #000000;\n",
       "        }#T_6e643_row5_col2{\n",
       "            background-color:  #a3c2fe;\n",
       "            color:  #000000;\n",
       "        }#T_6e643_row5_col3,#T_6e643_row7_col3{\n",
       "            background-color:  #98b9ff;\n",
       "            color:  #000000;\n",
       "        }#T_6e643_row5_col4{\n",
       "            background-color:  #ec8165;\n",
       "            color:  #000000;\n",
       "        }#T_6e643_row5_col6{\n",
       "            background-color:  #c0d4f5;\n",
       "            color:  #000000;\n",
       "        }#T_6e643_row5_col7{\n",
       "            background-color:  #84a7fc;\n",
       "            color:  #000000;\n",
       "        }#T_6e643_row6_col1{\n",
       "            background-color:  #e6d7cf;\n",
       "            color:  #000000;\n",
       "        }#T_6e643_row6_col2{\n",
       "            background-color:  #5e7de7;\n",
       "            color:  #000000;\n",
       "        }#T_6e643_row6_col3{\n",
       "            background-color:  #7093f3;\n",
       "            color:  #000000;\n",
       "        }#T_6e643_row6_col4{\n",
       "            background-color:  #efcebd;\n",
       "            color:  #000000;\n",
       "        }#T_6e643_row6_col5{\n",
       "            background-color:  #a7c5fe;\n",
       "            color:  #000000;\n",
       "        }#T_6e643_row6_col7{\n",
       "            background-color:  #6180e9;\n",
       "            color:  #000000;\n",
       "        }#T_6e643_row6_col8{\n",
       "            background-color:  #4055c8;\n",
       "            color:  #f1f1f1;\n",
       "        }#T_6e643_row7_col0{\n",
       "            background-color:  #e4d9d2;\n",
       "            color:  #000000;\n",
       "        }#T_6e643_row7_col2{\n",
       "            background-color:  #abc8fd;\n",
       "            color:  #000000;\n",
       "        }#T_6e643_row8_col0,#T_6e643_row8_col1{\n",
       "            background-color:  #d8dce2;\n",
       "            color:  #000000;\n",
       "        }#T_6e643_row8_col3{\n",
       "            background-color:  #80a3fa;\n",
       "            color:  #000000;\n",
       "        }#T_6e643_row8_col4{\n",
       "            background-color:  #bed2f6;\n",
       "            color:  #000000;\n",
       "        }#T_6e643_row8_col6{\n",
       "            background-color:  #9bbcff;\n",
       "            color:  #000000;\n",
       "        }#T_6e643_row8_col7{\n",
       "            background-color:  #bbd1f8;\n",
       "            color:  #000000;\n",
       "        }</style><table id=\"T_6e643_\" ><thead>    <tr>        <th class=\"blank level0\" ></th>        <th class=\"col_heading level0 col0\" >longitude</th>        <th class=\"col_heading level0 col1\" >latitude</th>        <th class=\"col_heading level0 col2\" >housing_median_age</th>        <th class=\"col_heading level0 col3\" >households</th>        <th class=\"col_heading level0 col4\" >median_income</th>        <th class=\"col_heading level0 col5\" >median_house_value</th>        <th class=\"col_heading level0 col6\" >rooms_per_household</th>        <th class=\"col_heading level0 col7\" >bedrooms_per_rooms</th>        <th class=\"col_heading level0 col8\" >population_per_household</th>    </tr></thead><tbody>\n",
       "                <tr>\n",
       "                        <th id=\"T_6e643_level0_row0\" class=\"row_heading level0 row0\" >longitude</th>\n",
       "                        <td id=\"T_6e643_row0_col0\" class=\"data row0 col0\" >1.000000</td>\n",
       "                        <td id=\"T_6e643_row0_col1\" class=\"data row0 col1\" >-0.924664</td>\n",
       "                        <td id=\"T_6e643_row0_col2\" class=\"data row0 col2\" >-0.108197</td>\n",
       "                        <td id=\"T_6e643_row0_col3\" class=\"data row0 col3\" >0.055310</td>\n",
       "                        <td id=\"T_6e643_row0_col4\" class=\"data row0 col4\" >-0.015176</td>\n",
       "                        <td id=\"T_6e643_row0_col5\" class=\"data row0 col5\" >-0.045967</td>\n",
       "                        <td id=\"T_6e643_row0_col6\" class=\"data row0 col6\" >-0.027540</td>\n",
       "                        <td id=\"T_6e643_row0_col7\" class=\"data row0 col7\" >0.092657</td>\n",
       "                        <td id=\"T_6e643_row0_col8\" class=\"data row0 col8\" >0.002476</td>\n",
       "            </tr>\n",
       "            <tr>\n",
       "                        <th id=\"T_6e643_level0_row1\" class=\"row_heading level0 row1\" >latitude</th>\n",
       "                        <td id=\"T_6e643_row1_col0\" class=\"data row1 col0\" >-0.924664</td>\n",
       "                        <td id=\"T_6e643_row1_col1\" class=\"data row1 col1\" >1.000000</td>\n",
       "                        <td id=\"T_6e643_row1_col2\" class=\"data row1 col2\" >0.011173</td>\n",
       "                        <td id=\"T_6e643_row1_col3\" class=\"data row1 col3\" >-0.071035</td>\n",
       "                        <td id=\"T_6e643_row1_col4\" class=\"data row1 col4\" >-0.079809</td>\n",
       "                        <td id=\"T_6e643_row1_col5\" class=\"data row1 col5\" >-0.144160</td>\n",
       "                        <td id=\"T_6e643_row1_col6\" class=\"data row1 col6\" >0.106389</td>\n",
       "                        <td id=\"T_6e643_row1_col7\" class=\"data row1 col7\" >-0.113815</td>\n",
       "                        <td id=\"T_6e643_row1_col8\" class=\"data row1 col8\" >0.002366</td>\n",
       "            </tr>\n",
       "            <tr>\n",
       "                        <th id=\"T_6e643_level0_row2\" class=\"row_heading level0 row2\" >housing_median_age</th>\n",
       "                        <td id=\"T_6e643_row2_col0\" class=\"data row2 col0\" >-0.108197</td>\n",
       "                        <td id=\"T_6e643_row2_col1\" class=\"data row2 col1\" >0.011173</td>\n",
       "                        <td id=\"T_6e643_row2_col2\" class=\"data row2 col2\" >1.000000</td>\n",
       "                        <td id=\"T_6e643_row2_col3\" class=\"data row2 col3\" >-0.302916</td>\n",
       "                        <td id=\"T_6e643_row2_col4\" class=\"data row2 col4\" >-0.119034</td>\n",
       "                        <td id=\"T_6e643_row2_col5\" class=\"data row2 col5\" >0.105623</td>\n",
       "                        <td id=\"T_6e643_row2_col6\" class=\"data row2 col6\" >-0.153277</td>\n",
       "                        <td id=\"T_6e643_row2_col7\" class=\"data row2 col7\" >0.136089</td>\n",
       "                        <td id=\"T_6e643_row2_col8\" class=\"data row2 col8\" >0.013191</td>\n",
       "            </tr>\n",
       "            <tr>\n",
       "                        <th id=\"T_6e643_level0_row3\" class=\"row_heading level0 row3\" >households</th>\n",
       "                        <td id=\"T_6e643_row3_col0\" class=\"data row3 col0\" >0.055310</td>\n",
       "                        <td id=\"T_6e643_row3_col1\" class=\"data row3 col1\" >-0.071035</td>\n",
       "                        <td id=\"T_6e643_row3_col2\" class=\"data row3 col2\" >-0.302916</td>\n",
       "                        <td id=\"T_6e643_row3_col3\" class=\"data row3 col3\" >1.000000</td>\n",
       "                        <td id=\"T_6e643_row3_col4\" class=\"data row3 col4\" >0.013033</td>\n",
       "                        <td id=\"T_6e643_row3_col5\" class=\"data row3 col5\" >0.065843</td>\n",
       "                        <td id=\"T_6e643_row3_col6\" class=\"data row3 col6\" >-0.080598</td>\n",
       "                        <td id=\"T_6e643_row3_col7\" class=\"data row3 col7\" >0.065087</td>\n",
       "                        <td id=\"T_6e643_row3_col8\" class=\"data row3 col8\" >-0.027309</td>\n",
       "            </tr>\n",
       "            <tr>\n",
       "                        <th id=\"T_6e643_level0_row4\" class=\"row_heading level0 row4\" >median_income</th>\n",
       "                        <td id=\"T_6e643_row4_col0\" class=\"data row4 col0\" >-0.015176</td>\n",
       "                        <td id=\"T_6e643_row4_col1\" class=\"data row4 col1\" >-0.079809</td>\n",
       "                        <td id=\"T_6e643_row4_col2\" class=\"data row4 col2\" >-0.119034</td>\n",
       "                        <td id=\"T_6e643_row4_col3\" class=\"data row4 col3\" >0.013033</td>\n",
       "                        <td id=\"T_6e643_row4_col4\" class=\"data row4 col4\" >1.000000</td>\n",
       "                        <td id=\"T_6e643_row4_col5\" class=\"data row4 col5\" >0.688075</td>\n",
       "                        <td id=\"T_6e643_row4_col6\" class=\"data row4 col6\" >0.326895</td>\n",
       "                        <td id=\"T_6e643_row4_col7\" class=\"data row4 col7\" >-0.615661</td>\n",
       "                        <td id=\"T_6e643_row4_col8\" class=\"data row4 col8\" >0.018766</td>\n",
       "            </tr>\n",
       "            <tr>\n",
       "                        <th id=\"T_6e643_level0_row5\" class=\"row_heading level0 row5\" >median_house_value</th>\n",
       "                        <td id=\"T_6e643_row5_col0\" class=\"data row5 col0\" >-0.045967</td>\n",
       "                        <td id=\"T_6e643_row5_col1\" class=\"data row5 col1\" >-0.144160</td>\n",
       "                        <td id=\"T_6e643_row5_col2\" class=\"data row5 col2\" >0.105623</td>\n",
       "                        <td id=\"T_6e643_row5_col3\" class=\"data row5 col3\" >0.065843</td>\n",
       "                        <td id=\"T_6e643_row5_col4\" class=\"data row5 col4\" >0.688075</td>\n",
       "                        <td id=\"T_6e643_row5_col5\" class=\"data row5 col5\" >1.000000</td>\n",
       "                        <td id=\"T_6e643_row5_col6\" class=\"data row5 col6\" >0.151948</td>\n",
       "                        <td id=\"T_6e643_row5_col7\" class=\"data row5 col7\" >-0.255880</td>\n",
       "                        <td id=\"T_6e643_row5_col8\" class=\"data row5 col8\" >-0.023737</td>\n",
       "            </tr>\n",
       "            <tr>\n",
       "                        <th id=\"T_6e643_level0_row6\" class=\"row_heading level0 row6\" >rooms_per_household</th>\n",
       "                        <td id=\"T_6e643_row6_col0\" class=\"data row6 col0\" >-0.027540</td>\n",
       "                        <td id=\"T_6e643_row6_col1\" class=\"data row6 col1\" >0.106389</td>\n",
       "                        <td id=\"T_6e643_row6_col2\" class=\"data row6 col2\" >-0.153277</td>\n",
       "                        <td id=\"T_6e643_row6_col3\" class=\"data row6 col3\" >-0.080598</td>\n",
       "                        <td id=\"T_6e643_row6_col4\" class=\"data row6 col4\" >0.326895</td>\n",
       "                        <td id=\"T_6e643_row6_col5\" class=\"data row6 col5\" >0.151948</td>\n",
       "                        <td id=\"T_6e643_row6_col6\" class=\"data row6 col6\" >1.000000</td>\n",
       "                        <td id=\"T_6e643_row6_col7\" class=\"data row6 col7\" >-0.416952</td>\n",
       "                        <td id=\"T_6e643_row6_col8\" class=\"data row6 col8\" >-0.004852</td>\n",
       "            </tr>\n",
       "            <tr>\n",
       "                        <th id=\"T_6e643_level0_row7\" class=\"row_heading level0 row7\" >bedrooms_per_rooms</th>\n",
       "                        <td id=\"T_6e643_row7_col0\" class=\"data row7 col0\" >0.092657</td>\n",
       "                        <td id=\"T_6e643_row7_col1\" class=\"data row7 col1\" >-0.113815</td>\n",
       "                        <td id=\"T_6e643_row7_col2\" class=\"data row7 col2\" >0.136089</td>\n",
       "                        <td id=\"T_6e643_row7_col3\" class=\"data row7 col3\" >0.065087</td>\n",
       "                        <td id=\"T_6e643_row7_col4\" class=\"data row7 col4\" >-0.615661</td>\n",
       "                        <td id=\"T_6e643_row7_col5\" class=\"data row7 col5\" >-0.255880</td>\n",
       "                        <td id=\"T_6e643_row7_col6\" class=\"data row7 col6\" >-0.416952</td>\n",
       "                        <td id=\"T_6e643_row7_col7\" class=\"data row7 col7\" >1.000000</td>\n",
       "                        <td id=\"T_6e643_row7_col8\" class=\"data row7 col8\" >0.002938</td>\n",
       "            </tr>\n",
       "            <tr>\n",
       "                        <th id=\"T_6e643_level0_row8\" class=\"row_heading level0 row8\" >population_per_household</th>\n",
       "                        <td id=\"T_6e643_row8_col0\" class=\"data row8 col0\" >0.002476</td>\n",
       "                        <td id=\"T_6e643_row8_col1\" class=\"data row8 col1\" >0.002366</td>\n",
       "                        <td id=\"T_6e643_row8_col2\" class=\"data row8 col2\" >0.013191</td>\n",
       "                        <td id=\"T_6e643_row8_col3\" class=\"data row8 col3\" >-0.027309</td>\n",
       "                        <td id=\"T_6e643_row8_col4\" class=\"data row8 col4\" >0.018766</td>\n",
       "                        <td id=\"T_6e643_row8_col5\" class=\"data row8 col5\" >-0.023737</td>\n",
       "                        <td id=\"T_6e643_row8_col6\" class=\"data row8 col6\" >-0.004852</td>\n",
       "                        <td id=\"T_6e643_row8_col7\" class=\"data row8 col7\" >0.002938</td>\n",
       "                        <td id=\"T_6e643_row8_col8\" class=\"data row8 col8\" >1.000000</td>\n",
       "            </tr>\n",
       "    </tbody></table>"
      ],
      "text/plain": [
       "<pandas.io.formats.style.Styler at 0x1c5b6d98070>"
      ]
     },
     "execution_count": 22,
     "metadata": {},
     "output_type": "execute_result"
    }
   ],
   "source": [
    "corr_matrix = housing.corr()\n",
    "corr_matrix.style.background_gradient(cmap='coolwarm')"
   ]
  },
  {
   "cell_type": "markdown",
   "id": "218a7a09",
   "metadata": {},
   "source": [
    "# Data Cleaning"
   ]
  },
  {
   "cell_type": "code",
   "execution_count": 23,
   "id": "27ed5324",
   "metadata": {},
   "outputs": [
    {
     "name": "stdout",
     "output_type": "stream",
     "text": [
      "<class 'pandas.core.frame.DataFrame'>\n",
      "RangeIndex: 20640 entries, 0 to 20639\n",
      "Data columns (total 10 columns):\n",
      " #   Column                    Non-Null Count  Dtype  \n",
      "---  ------                    --------------  -----  \n",
      " 0   longitude                 20640 non-null  float64\n",
      " 1   latitude                  20640 non-null  float64\n",
      " 2   housing_median_age        20640 non-null  int64  \n",
      " 3   households                20640 non-null  int64  \n",
      " 4   median_income             20640 non-null  float64\n",
      " 5   median_house_value        20640 non-null  int64  \n",
      " 6   ocean_proximity           20640 non-null  object \n",
      " 7   rooms_per_household       20640 non-null  float64\n",
      " 8   bedrooms_per_rooms        20433 non-null  float64\n",
      " 9   population_per_household  20640 non-null  float64\n",
      "dtypes: float64(6), int64(3), object(1)\n",
      "memory usage: 1.6+ MB\n"
     ]
    }
   ],
   "source": [
    "housing.info()"
   ]
  },
  {
   "cell_type": "markdown",
   "id": "ba5d509e",
   "metadata": {},
   "source": [
    "Missing Values"
   ]
  },
  {
   "cell_type": "code",
   "execution_count": 24,
   "id": "71fd0c5f",
   "metadata": {},
   "outputs": [
    {
     "data": {
      "text/plain": [
       "207"
      ]
     },
     "execution_count": 24,
     "metadata": {},
     "output_type": "execute_result"
    }
   ],
   "source": [
    "housing.bedrooms_per_rooms.isnull().sum()"
   ]
  },
  {
   "cell_type": "code",
   "execution_count": 25,
   "id": "4e01f3ed",
   "metadata": {},
   "outputs": [
    {
     "data": {
      "text/plain": [
       "count    20433.000000\n",
       "mean         0.213039\n",
       "std          0.057983\n",
       "min          0.100000\n",
       "25%          0.175427\n",
       "50%          0.203162\n",
       "75%          0.239821\n",
       "max          1.000000\n",
       "Name: bedrooms_per_rooms, dtype: float64"
      ]
     },
     "execution_count": 25,
     "metadata": {},
     "output_type": "execute_result"
    }
   ],
   "source": [
    "housing['bedrooms_per_rooms'].describe()"
   ]
  },
  {
   "cell_type": "code",
   "execution_count": 26,
   "id": "2c9fcbf1",
   "metadata": {},
   "outputs": [],
   "source": [
    "housing['bedrooms_per_rooms'] = housing['bedrooms_per_rooms'].fillna(housing[\"bedrooms_per_rooms\"].median())"
   ]
  },
  {
   "cell_type": "code",
   "execution_count": 27,
   "id": "d6856103",
   "metadata": {},
   "outputs": [
    {
     "data": {
      "text/plain": [
       "0"
      ]
     },
     "execution_count": 27,
     "metadata": {},
     "output_type": "execute_result"
    }
   ],
   "source": [
    "housing.bedrooms_per_rooms.isnull().sum()"
   ]
  },
  {
   "cell_type": "markdown",
   "id": "c045461f",
   "metadata": {},
   "source": [
    "Outliers in median_income"
   ]
  },
  {
   "cell_type": "code",
   "execution_count": 28,
   "id": "f52e6e5a",
   "metadata": {},
   "outputs": [
    {
     "data": {
      "text/plain": [
       "3.1250     49\n",
       "15.0001    49\n",
       "2.8750     46\n",
       "2.6250     44\n",
       "4.1250     44\n",
       "           ..\n",
       "5.0476      1\n",
       "4.6379      1\n",
       "2.9402      1\n",
       "6.0256      1\n",
       "5.5647      1\n",
       "Name: median_income, Length: 12928, dtype: int64"
      ]
     },
     "execution_count": 28,
     "metadata": {},
     "output_type": "execute_result"
    }
   ],
   "source": [
    "housing['median_income'].value_counts()"
   ]
  },
  {
   "cell_type": "code",
   "execution_count": 29,
   "id": "348664c2",
   "metadata": {},
   "outputs": [],
   "source": [
    "housing['median_income'].where(housing['median_income']<8,8, inplace = True)"
   ]
  },
  {
   "cell_type": "code",
   "execution_count": 30,
   "id": "99120e1e",
   "metadata": {},
   "outputs": [
    {
     "data": {
      "text/plain": [
       "8.0000    691\n",
       "3.1250     49\n",
       "2.8750     46\n",
       "2.6250     44\n",
       "4.1250     44\n",
       "         ... \n",
       "5.1691      1\n",
       "6.9790      1\n",
       "2.3075      1\n",
       "6.3960      1\n",
       "5.5647      1\n",
       "Name: median_income, Length: 12293, dtype: int64"
      ]
     },
     "execution_count": 30,
     "metadata": {},
     "output_type": "execute_result"
    }
   ],
   "source": [
    "housing['median_income'].value_counts()"
   ]
  },
  {
   "cell_type": "markdown",
   "id": "5a46f4af",
   "metadata": {},
   "source": [
    "# Preprocessing"
   ]
  },
  {
   "cell_type": "code",
   "execution_count": 31,
   "id": "01cbe12c",
   "metadata": {},
   "outputs": [
    {
     "data": {
      "text/plain": [
       "(20640, 10)"
      ]
     },
     "execution_count": 31,
     "metadata": {},
     "output_type": "execute_result"
    }
   ],
   "source": [
    "housing.shape"
   ]
  },
  {
   "cell_type": "code",
   "execution_count": 32,
   "id": "00698cd7",
   "metadata": {},
   "outputs": [],
   "source": [
    "ocean_proximity_dummies = pd.get_dummies(housing['ocean_proximity'])"
   ]
  },
  {
   "cell_type": "code",
   "execution_count": 33,
   "id": "d01ccd46",
   "metadata": {},
   "outputs": [
    {
     "data": {
      "text/html": [
       "<div>\n",
       "<style scoped>\n",
       "    .dataframe tbody tr th:only-of-type {\n",
       "        vertical-align: middle;\n",
       "    }\n",
       "\n",
       "    .dataframe tbody tr th {\n",
       "        vertical-align: top;\n",
       "    }\n",
       "\n",
       "    .dataframe thead th {\n",
       "        text-align: right;\n",
       "    }\n",
       "</style>\n",
       "<table border=\"1\" class=\"dataframe\">\n",
       "  <thead>\n",
       "    <tr style=\"text-align: right;\">\n",
       "      <th></th>\n",
       "      <th>&lt;1H OCEAN</th>\n",
       "      <th>INLAND</th>\n",
       "      <th>ISLAND</th>\n",
       "      <th>NEAR BAY</th>\n",
       "      <th>NEAR OCEAN</th>\n",
       "    </tr>\n",
       "  </thead>\n",
       "  <tbody>\n",
       "    <tr>\n",
       "      <th>0</th>\n",
       "      <td>0</td>\n",
       "      <td>0</td>\n",
       "      <td>0</td>\n",
       "      <td>1</td>\n",
       "      <td>0</td>\n",
       "    </tr>\n",
       "    <tr>\n",
       "      <th>1</th>\n",
       "      <td>0</td>\n",
       "      <td>0</td>\n",
       "      <td>0</td>\n",
       "      <td>1</td>\n",
       "      <td>0</td>\n",
       "    </tr>\n",
       "    <tr>\n",
       "      <th>2</th>\n",
       "      <td>0</td>\n",
       "      <td>0</td>\n",
       "      <td>0</td>\n",
       "      <td>1</td>\n",
       "      <td>0</td>\n",
       "    </tr>\n",
       "    <tr>\n",
       "      <th>3</th>\n",
       "      <td>0</td>\n",
       "      <td>0</td>\n",
       "      <td>0</td>\n",
       "      <td>1</td>\n",
       "      <td>0</td>\n",
       "    </tr>\n",
       "    <tr>\n",
       "      <th>4</th>\n",
       "      <td>0</td>\n",
       "      <td>0</td>\n",
       "      <td>0</td>\n",
       "      <td>1</td>\n",
       "      <td>0</td>\n",
       "    </tr>\n",
       "    <tr>\n",
       "      <th>...</th>\n",
       "      <td>...</td>\n",
       "      <td>...</td>\n",
       "      <td>...</td>\n",
       "      <td>...</td>\n",
       "      <td>...</td>\n",
       "    </tr>\n",
       "    <tr>\n",
       "      <th>20635</th>\n",
       "      <td>0</td>\n",
       "      <td>1</td>\n",
       "      <td>0</td>\n",
       "      <td>0</td>\n",
       "      <td>0</td>\n",
       "    </tr>\n",
       "    <tr>\n",
       "      <th>20636</th>\n",
       "      <td>0</td>\n",
       "      <td>1</td>\n",
       "      <td>0</td>\n",
       "      <td>0</td>\n",
       "      <td>0</td>\n",
       "    </tr>\n",
       "    <tr>\n",
       "      <th>20637</th>\n",
       "      <td>0</td>\n",
       "      <td>1</td>\n",
       "      <td>0</td>\n",
       "      <td>0</td>\n",
       "      <td>0</td>\n",
       "    </tr>\n",
       "    <tr>\n",
       "      <th>20638</th>\n",
       "      <td>0</td>\n",
       "      <td>1</td>\n",
       "      <td>0</td>\n",
       "      <td>0</td>\n",
       "      <td>0</td>\n",
       "    </tr>\n",
       "    <tr>\n",
       "      <th>20639</th>\n",
       "      <td>0</td>\n",
       "      <td>1</td>\n",
       "      <td>0</td>\n",
       "      <td>0</td>\n",
       "      <td>0</td>\n",
       "    </tr>\n",
       "  </tbody>\n",
       "</table>\n",
       "<p>20640 rows × 5 columns</p>\n",
       "</div>"
      ],
      "text/plain": [
       "       <1H OCEAN  INLAND  ISLAND  NEAR BAY  NEAR OCEAN\n",
       "0              0       0       0         1           0\n",
       "1              0       0       0         1           0\n",
       "2              0       0       0         1           0\n",
       "3              0       0       0         1           0\n",
       "4              0       0       0         1           0\n",
       "...          ...     ...     ...       ...         ...\n",
       "20635          0       1       0         0           0\n",
       "20636          0       1       0         0           0\n",
       "20637          0       1       0         0           0\n",
       "20638          0       1       0         0           0\n",
       "20639          0       1       0         0           0\n",
       "\n",
       "[20640 rows x 5 columns]"
      ]
     },
     "execution_count": 33,
     "metadata": {},
     "output_type": "execute_result"
    }
   ],
   "source": [
    "ocean_proximity_dummies"
   ]
  },
  {
   "cell_type": "code",
   "execution_count": 34,
   "id": "e083f2de",
   "metadata": {},
   "outputs": [],
   "source": [
    "housing = pd.concat([housing,ocean_proximity_dummies],axis=1)"
   ]
  },
  {
   "cell_type": "code",
   "execution_count": 35,
   "id": "ccbaa79b",
   "metadata": {},
   "outputs": [],
   "source": [
    "housing = housing.drop(columns = 'ocean_proximity')"
   ]
  },
  {
   "cell_type": "code",
   "execution_count": 36,
   "id": "972d8f1b",
   "metadata": {},
   "outputs": [
    {
     "data": {
      "text/html": [
       "<div>\n",
       "<style scoped>\n",
       "    .dataframe tbody tr th:only-of-type {\n",
       "        vertical-align: middle;\n",
       "    }\n",
       "\n",
       "    .dataframe tbody tr th {\n",
       "        vertical-align: top;\n",
       "    }\n",
       "\n",
       "    .dataframe thead th {\n",
       "        text-align: right;\n",
       "    }\n",
       "</style>\n",
       "<table border=\"1\" class=\"dataframe\">\n",
       "  <thead>\n",
       "    <tr style=\"text-align: right;\">\n",
       "      <th></th>\n",
       "      <th>longitude</th>\n",
       "      <th>latitude</th>\n",
       "      <th>housing_median_age</th>\n",
       "      <th>households</th>\n",
       "      <th>median_income</th>\n",
       "      <th>median_house_value</th>\n",
       "      <th>rooms_per_household</th>\n",
       "      <th>bedrooms_per_rooms</th>\n",
       "      <th>population_per_household</th>\n",
       "      <th>&lt;1H OCEAN</th>\n",
       "      <th>INLAND</th>\n",
       "      <th>ISLAND</th>\n",
       "      <th>NEAR BAY</th>\n",
       "      <th>NEAR OCEAN</th>\n",
       "    </tr>\n",
       "  </thead>\n",
       "  <tbody>\n",
       "    <tr>\n",
       "      <th>0</th>\n",
       "      <td>-122.23</td>\n",
       "      <td>37.88</td>\n",
       "      <td>41</td>\n",
       "      <td>126</td>\n",
       "      <td>8.0000</td>\n",
       "      <td>452600</td>\n",
       "      <td>6.984127</td>\n",
       "      <td>0.146591</td>\n",
       "      <td>2.555556</td>\n",
       "      <td>0</td>\n",
       "      <td>0</td>\n",
       "      <td>0</td>\n",
       "      <td>1</td>\n",
       "      <td>0</td>\n",
       "    </tr>\n",
       "    <tr>\n",
       "      <th>1</th>\n",
       "      <td>-122.22</td>\n",
       "      <td>37.86</td>\n",
       "      <td>21</td>\n",
       "      <td>1138</td>\n",
       "      <td>8.0000</td>\n",
       "      <td>358500</td>\n",
       "      <td>6.238137</td>\n",
       "      <td>0.155797</td>\n",
       "      <td>2.109842</td>\n",
       "      <td>0</td>\n",
       "      <td>0</td>\n",
       "      <td>0</td>\n",
       "      <td>1</td>\n",
       "      <td>0</td>\n",
       "    </tr>\n",
       "    <tr>\n",
       "      <th>2</th>\n",
       "      <td>-122.24</td>\n",
       "      <td>37.85</td>\n",
       "      <td>52</td>\n",
       "      <td>177</td>\n",
       "      <td>7.2574</td>\n",
       "      <td>352100</td>\n",
       "      <td>8.288136</td>\n",
       "      <td>0.129516</td>\n",
       "      <td>2.802260</td>\n",
       "      <td>0</td>\n",
       "      <td>0</td>\n",
       "      <td>0</td>\n",
       "      <td>1</td>\n",
       "      <td>0</td>\n",
       "    </tr>\n",
       "    <tr>\n",
       "      <th>3</th>\n",
       "      <td>-122.25</td>\n",
       "      <td>37.85</td>\n",
       "      <td>52</td>\n",
       "      <td>219</td>\n",
       "      <td>5.6431</td>\n",
       "      <td>341300</td>\n",
       "      <td>5.817352</td>\n",
       "      <td>0.184458</td>\n",
       "      <td>2.547945</td>\n",
       "      <td>0</td>\n",
       "      <td>0</td>\n",
       "      <td>0</td>\n",
       "      <td>1</td>\n",
       "      <td>0</td>\n",
       "    </tr>\n",
       "    <tr>\n",
       "      <th>4</th>\n",
       "      <td>-122.25</td>\n",
       "      <td>37.85</td>\n",
       "      <td>52</td>\n",
       "      <td>259</td>\n",
       "      <td>3.8462</td>\n",
       "      <td>342200</td>\n",
       "      <td>6.281853</td>\n",
       "      <td>0.172096</td>\n",
       "      <td>2.181467</td>\n",
       "      <td>0</td>\n",
       "      <td>0</td>\n",
       "      <td>0</td>\n",
       "      <td>1</td>\n",
       "      <td>0</td>\n",
       "    </tr>\n",
       "    <tr>\n",
       "      <th>...</th>\n",
       "      <td>...</td>\n",
       "      <td>...</td>\n",
       "      <td>...</td>\n",
       "      <td>...</td>\n",
       "      <td>...</td>\n",
       "      <td>...</td>\n",
       "      <td>...</td>\n",
       "      <td>...</td>\n",
       "      <td>...</td>\n",
       "      <td>...</td>\n",
       "      <td>...</td>\n",
       "      <td>...</td>\n",
       "      <td>...</td>\n",
       "      <td>...</td>\n",
       "    </tr>\n",
       "    <tr>\n",
       "      <th>20635</th>\n",
       "      <td>-121.09</td>\n",
       "      <td>39.48</td>\n",
       "      <td>25</td>\n",
       "      <td>330</td>\n",
       "      <td>1.5603</td>\n",
       "      <td>78100</td>\n",
       "      <td>5.045455</td>\n",
       "      <td>0.224625</td>\n",
       "      <td>2.560606</td>\n",
       "      <td>0</td>\n",
       "      <td>1</td>\n",
       "      <td>0</td>\n",
       "      <td>0</td>\n",
       "      <td>0</td>\n",
       "    </tr>\n",
       "    <tr>\n",
       "      <th>20636</th>\n",
       "      <td>-121.21</td>\n",
       "      <td>39.49</td>\n",
       "      <td>18</td>\n",
       "      <td>114</td>\n",
       "      <td>2.5568</td>\n",
       "      <td>77100</td>\n",
       "      <td>6.114035</td>\n",
       "      <td>0.215208</td>\n",
       "      <td>3.122807</td>\n",
       "      <td>0</td>\n",
       "      <td>1</td>\n",
       "      <td>0</td>\n",
       "      <td>0</td>\n",
       "      <td>0</td>\n",
       "    </tr>\n",
       "    <tr>\n",
       "      <th>20637</th>\n",
       "      <td>-121.22</td>\n",
       "      <td>39.43</td>\n",
       "      <td>17</td>\n",
       "      <td>433</td>\n",
       "      <td>1.7000</td>\n",
       "      <td>92300</td>\n",
       "      <td>5.205543</td>\n",
       "      <td>0.215173</td>\n",
       "      <td>2.325635</td>\n",
       "      <td>0</td>\n",
       "      <td>1</td>\n",
       "      <td>0</td>\n",
       "      <td>0</td>\n",
       "      <td>0</td>\n",
       "    </tr>\n",
       "    <tr>\n",
       "      <th>20638</th>\n",
       "      <td>-121.32</td>\n",
       "      <td>39.43</td>\n",
       "      <td>18</td>\n",
       "      <td>349</td>\n",
       "      <td>1.8672</td>\n",
       "      <td>84700</td>\n",
       "      <td>5.329513</td>\n",
       "      <td>0.219892</td>\n",
       "      <td>2.123209</td>\n",
       "      <td>0</td>\n",
       "      <td>1</td>\n",
       "      <td>0</td>\n",
       "      <td>0</td>\n",
       "      <td>0</td>\n",
       "    </tr>\n",
       "    <tr>\n",
       "      <th>20639</th>\n",
       "      <td>-121.24</td>\n",
       "      <td>39.37</td>\n",
       "      <td>16</td>\n",
       "      <td>530</td>\n",
       "      <td>2.3886</td>\n",
       "      <td>89400</td>\n",
       "      <td>5.254717</td>\n",
       "      <td>0.221185</td>\n",
       "      <td>2.616981</td>\n",
       "      <td>0</td>\n",
       "      <td>1</td>\n",
       "      <td>0</td>\n",
       "      <td>0</td>\n",
       "      <td>0</td>\n",
       "    </tr>\n",
       "  </tbody>\n",
       "</table>\n",
       "<p>20640 rows × 14 columns</p>\n",
       "</div>"
      ],
      "text/plain": [
       "       longitude  latitude  housing_median_age  households  median_income  \\\n",
       "0        -122.23     37.88                  41         126         8.0000   \n",
       "1        -122.22     37.86                  21        1138         8.0000   \n",
       "2        -122.24     37.85                  52         177         7.2574   \n",
       "3        -122.25     37.85                  52         219         5.6431   \n",
       "4        -122.25     37.85                  52         259         3.8462   \n",
       "...          ...       ...                 ...         ...            ...   \n",
       "20635    -121.09     39.48                  25         330         1.5603   \n",
       "20636    -121.21     39.49                  18         114         2.5568   \n",
       "20637    -121.22     39.43                  17         433         1.7000   \n",
       "20638    -121.32     39.43                  18         349         1.8672   \n",
       "20639    -121.24     39.37                  16         530         2.3886   \n",
       "\n",
       "       median_house_value  rooms_per_household  bedrooms_per_rooms  \\\n",
       "0                  452600             6.984127            0.146591   \n",
       "1                  358500             6.238137            0.155797   \n",
       "2                  352100             8.288136            0.129516   \n",
       "3                  341300             5.817352            0.184458   \n",
       "4                  342200             6.281853            0.172096   \n",
       "...                   ...                  ...                 ...   \n",
       "20635               78100             5.045455            0.224625   \n",
       "20636               77100             6.114035            0.215208   \n",
       "20637               92300             5.205543            0.215173   \n",
       "20638               84700             5.329513            0.219892   \n",
       "20639               89400             5.254717            0.221185   \n",
       "\n",
       "       population_per_household  <1H OCEAN  INLAND  ISLAND  NEAR BAY  \\\n",
       "0                      2.555556          0       0       0         1   \n",
       "1                      2.109842          0       0       0         1   \n",
       "2                      2.802260          0       0       0         1   \n",
       "3                      2.547945          0       0       0         1   \n",
       "4                      2.181467          0       0       0         1   \n",
       "...                         ...        ...     ...     ...       ...   \n",
       "20635                  2.560606          0       1       0         0   \n",
       "20636                  3.122807          0       1       0         0   \n",
       "20637                  2.325635          0       1       0         0   \n",
       "20638                  2.123209          0       1       0         0   \n",
       "20639                  2.616981          0       1       0         0   \n",
       "\n",
       "       NEAR OCEAN  \n",
       "0               0  \n",
       "1               0  \n",
       "2               0  \n",
       "3               0  \n",
       "4               0  \n",
       "...           ...  \n",
       "20635           0  \n",
       "20636           0  \n",
       "20637           0  \n",
       "20638           0  \n",
       "20639           0  \n",
       "\n",
       "[20640 rows x 14 columns]"
      ]
     },
     "execution_count": 36,
     "metadata": {},
     "output_type": "execute_result"
    }
   ],
   "source": [
    "housing"
   ]
  },
  {
   "cell_type": "code",
   "execution_count": 37,
   "id": "b2181a78",
   "metadata": {},
   "outputs": [
    {
     "data": {
      "text/plain": [
       "Index(['longitude', 'latitude', 'housing_median_age', 'households',\n",
       "       'median_income', 'median_house_value', 'rooms_per_household',\n",
       "       'bedrooms_per_rooms', 'population_per_household', '<1H OCEAN', 'INLAND',\n",
       "       'ISLAND', 'NEAR BAY', 'NEAR OCEAN'],\n",
       "      dtype='object')"
      ]
     },
     "execution_count": 37,
     "metadata": {},
     "output_type": "execute_result"
    }
   ],
   "source": [
    "columns = housing.columns\n",
    "columns"
   ]
  },
  {
   "cell_type": "code",
   "execution_count": 42,
   "id": "cfcd4a7a",
   "metadata": {},
   "outputs": [
    {
     "data": {
      "text/html": [
       "<div>\n",
       "<style scoped>\n",
       "    .dataframe tbody tr th:only-of-type {\n",
       "        vertical-align: middle;\n",
       "    }\n",
       "\n",
       "    .dataframe tbody tr th {\n",
       "        vertical-align: top;\n",
       "    }\n",
       "\n",
       "    .dataframe thead th {\n",
       "        text-align: right;\n",
       "    }\n",
       "</style>\n",
       "<table border=\"1\" class=\"dataframe\">\n",
       "  <thead>\n",
       "    <tr style=\"text-align: right;\">\n",
       "      <th></th>\n",
       "      <th>longitude</th>\n",
       "      <th>latitude</th>\n",
       "      <th>housing_median_age</th>\n",
       "      <th>households</th>\n",
       "      <th>median_income</th>\n",
       "      <th>median_house_value</th>\n",
       "      <th>rooms_per_household</th>\n",
       "      <th>bedrooms_per_rooms</th>\n",
       "      <th>population_per_household</th>\n",
       "      <th>&lt;1H OCEAN</th>\n",
       "      <th>INLAND</th>\n",
       "      <th>ISLAND</th>\n",
       "      <th>NEAR BAY</th>\n",
       "      <th>NEAR OCEAN</th>\n",
       "    </tr>\n",
       "  </thead>\n",
       "  <tbody>\n",
       "    <tr>\n",
       "      <th>0</th>\n",
       "      <td>0.211155</td>\n",
       "      <td>0.567481</td>\n",
       "      <td>0.784314</td>\n",
       "      <td>0.020556</td>\n",
       "      <td>1.000000</td>\n",
       "      <td>0.902266</td>\n",
       "      <td>0.043512</td>\n",
       "      <td>0.051768</td>\n",
       "      <td>0.001499</td>\n",
       "      <td>0.0</td>\n",
       "      <td>0.0</td>\n",
       "      <td>0.0</td>\n",
       "      <td>1.0</td>\n",
       "      <td>0.0</td>\n",
       "    </tr>\n",
       "    <tr>\n",
       "      <th>1</th>\n",
       "      <td>0.212151</td>\n",
       "      <td>0.565356</td>\n",
       "      <td>0.392157</td>\n",
       "      <td>0.186976</td>\n",
       "      <td>1.000000</td>\n",
       "      <td>0.708247</td>\n",
       "      <td>0.038224</td>\n",
       "      <td>0.061996</td>\n",
       "      <td>0.001141</td>\n",
       "      <td>0.0</td>\n",
       "      <td>0.0</td>\n",
       "      <td>0.0</td>\n",
       "      <td>1.0</td>\n",
       "      <td>0.0</td>\n",
       "    </tr>\n",
       "    <tr>\n",
       "      <th>2</th>\n",
       "      <td>0.210159</td>\n",
       "      <td>0.564293</td>\n",
       "      <td>1.000000</td>\n",
       "      <td>0.028943</td>\n",
       "      <td>0.900988</td>\n",
       "      <td>0.695051</td>\n",
       "      <td>0.052756</td>\n",
       "      <td>0.032796</td>\n",
       "      <td>0.001698</td>\n",
       "      <td>0.0</td>\n",
       "      <td>0.0</td>\n",
       "      <td>0.0</td>\n",
       "      <td>1.0</td>\n",
       "      <td>0.0</td>\n",
       "    </tr>\n",
       "    <tr>\n",
       "      <th>3</th>\n",
       "      <td>0.209163</td>\n",
       "      <td>0.564293</td>\n",
       "      <td>1.000000</td>\n",
       "      <td>0.035849</td>\n",
       "      <td>0.685751</td>\n",
       "      <td>0.672783</td>\n",
       "      <td>0.035241</td>\n",
       "      <td>0.093843</td>\n",
       "      <td>0.001493</td>\n",
       "      <td>0.0</td>\n",
       "      <td>0.0</td>\n",
       "      <td>0.0</td>\n",
       "      <td>1.0</td>\n",
       "      <td>0.0</td>\n",
       "    </tr>\n",
       "    <tr>\n",
       "      <th>4</th>\n",
       "      <td>0.209163</td>\n",
       "      <td>0.564293</td>\n",
       "      <td>1.000000</td>\n",
       "      <td>0.042427</td>\n",
       "      <td>0.446167</td>\n",
       "      <td>0.674638</td>\n",
       "      <td>0.038534</td>\n",
       "      <td>0.080107</td>\n",
       "      <td>0.001198</td>\n",
       "      <td>0.0</td>\n",
       "      <td>0.0</td>\n",
       "      <td>0.0</td>\n",
       "      <td>1.0</td>\n",
       "      <td>0.0</td>\n",
       "    </tr>\n",
       "    <tr>\n",
       "      <th>...</th>\n",
       "      <td>...</td>\n",
       "      <td>...</td>\n",
       "      <td>...</td>\n",
       "      <td>...</td>\n",
       "      <td>...</td>\n",
       "      <td>...</td>\n",
       "      <td>...</td>\n",
       "      <td>...</td>\n",
       "      <td>...</td>\n",
       "      <td>...</td>\n",
       "      <td>...</td>\n",
       "      <td>...</td>\n",
       "      <td>...</td>\n",
       "      <td>...</td>\n",
       "    </tr>\n",
       "    <tr>\n",
       "      <th>20635</th>\n",
       "      <td>0.324701</td>\n",
       "      <td>0.737513</td>\n",
       "      <td>0.470588</td>\n",
       "      <td>0.054103</td>\n",
       "      <td>0.141385</td>\n",
       "      <td>0.130105</td>\n",
       "      <td>0.029769</td>\n",
       "      <td>0.138472</td>\n",
       "      <td>0.001503</td>\n",
       "      <td>0.0</td>\n",
       "      <td>1.0</td>\n",
       "      <td>0.0</td>\n",
       "      <td>0.0</td>\n",
       "      <td>0.0</td>\n",
       "    </tr>\n",
       "    <tr>\n",
       "      <th>20636</th>\n",
       "      <td>0.312749</td>\n",
       "      <td>0.738576</td>\n",
       "      <td>0.333333</td>\n",
       "      <td>0.018582</td>\n",
       "      <td>0.274250</td>\n",
       "      <td>0.128043</td>\n",
       "      <td>0.037344</td>\n",
       "      <td>0.128009</td>\n",
       "      <td>0.001956</td>\n",
       "      <td>0.0</td>\n",
       "      <td>1.0</td>\n",
       "      <td>0.0</td>\n",
       "      <td>0.0</td>\n",
       "      <td>0.0</td>\n",
       "    </tr>\n",
       "    <tr>\n",
       "      <th>20637</th>\n",
       "      <td>0.311753</td>\n",
       "      <td>0.732200</td>\n",
       "      <td>0.313725</td>\n",
       "      <td>0.071041</td>\n",
       "      <td>0.160011</td>\n",
       "      <td>0.159383</td>\n",
       "      <td>0.030904</td>\n",
       "      <td>0.127970</td>\n",
       "      <td>0.001314</td>\n",
       "      <td>0.0</td>\n",
       "      <td>1.0</td>\n",
       "      <td>0.0</td>\n",
       "      <td>0.0</td>\n",
       "      <td>0.0</td>\n",
       "    </tr>\n",
       "    <tr>\n",
       "      <th>20638</th>\n",
       "      <td>0.301793</td>\n",
       "      <td>0.732200</td>\n",
       "      <td>0.333333</td>\n",
       "      <td>0.057227</td>\n",
       "      <td>0.182304</td>\n",
       "      <td>0.143713</td>\n",
       "      <td>0.031783</td>\n",
       "      <td>0.133214</td>\n",
       "      <td>0.001152</td>\n",
       "      <td>0.0</td>\n",
       "      <td>1.0</td>\n",
       "      <td>0.0</td>\n",
       "      <td>0.0</td>\n",
       "      <td>0.0</td>\n",
       "    </tr>\n",
       "    <tr>\n",
       "      <th>20639</th>\n",
       "      <td>0.309761</td>\n",
       "      <td>0.725824</td>\n",
       "      <td>0.294118</td>\n",
       "      <td>0.086992</td>\n",
       "      <td>0.251823</td>\n",
       "      <td>0.153403</td>\n",
       "      <td>0.031252</td>\n",
       "      <td>0.134650</td>\n",
       "      <td>0.001549</td>\n",
       "      <td>0.0</td>\n",
       "      <td>1.0</td>\n",
       "      <td>0.0</td>\n",
       "      <td>0.0</td>\n",
       "      <td>0.0</td>\n",
       "    </tr>\n",
       "  </tbody>\n",
       "</table>\n",
       "<p>20640 rows × 14 columns</p>\n",
       "</div>"
      ],
      "text/plain": [
       "       longitude  latitude  housing_median_age  households  median_income  \\\n",
       "0       0.211155  0.567481            0.784314    0.020556       1.000000   \n",
       "1       0.212151  0.565356            0.392157    0.186976       1.000000   \n",
       "2       0.210159  0.564293            1.000000    0.028943       0.900988   \n",
       "3       0.209163  0.564293            1.000000    0.035849       0.685751   \n",
       "4       0.209163  0.564293            1.000000    0.042427       0.446167   \n",
       "...          ...       ...                 ...         ...            ...   \n",
       "20635   0.324701  0.737513            0.470588    0.054103       0.141385   \n",
       "20636   0.312749  0.738576            0.333333    0.018582       0.274250   \n",
       "20637   0.311753  0.732200            0.313725    0.071041       0.160011   \n",
       "20638   0.301793  0.732200            0.333333    0.057227       0.182304   \n",
       "20639   0.309761  0.725824            0.294118    0.086992       0.251823   \n",
       "\n",
       "       median_house_value  rooms_per_household  bedrooms_per_rooms  \\\n",
       "0                0.902266             0.043512            0.051768   \n",
       "1                0.708247             0.038224            0.061996   \n",
       "2                0.695051             0.052756            0.032796   \n",
       "3                0.672783             0.035241            0.093843   \n",
       "4                0.674638             0.038534            0.080107   \n",
       "...                   ...                  ...                 ...   \n",
       "20635            0.130105             0.029769            0.138472   \n",
       "20636            0.128043             0.037344            0.128009   \n",
       "20637            0.159383             0.030904            0.127970   \n",
       "20638            0.143713             0.031783            0.133214   \n",
       "20639            0.153403             0.031252            0.134650   \n",
       "\n",
       "       population_per_household  <1H OCEAN  INLAND  ISLAND  NEAR BAY  \\\n",
       "0                      0.001499        0.0     0.0     0.0       1.0   \n",
       "1                      0.001141        0.0     0.0     0.0       1.0   \n",
       "2                      0.001698        0.0     0.0     0.0       1.0   \n",
       "3                      0.001493        0.0     0.0     0.0       1.0   \n",
       "4                      0.001198        0.0     0.0     0.0       1.0   \n",
       "...                         ...        ...     ...     ...       ...   \n",
       "20635                  0.001503        0.0     1.0     0.0       0.0   \n",
       "20636                  0.001956        0.0     1.0     0.0       0.0   \n",
       "20637                  0.001314        0.0     1.0     0.0       0.0   \n",
       "20638                  0.001152        0.0     1.0     0.0       0.0   \n",
       "20639                  0.001549        0.0     1.0     0.0       0.0   \n",
       "\n",
       "       NEAR OCEAN  \n",
       "0             0.0  \n",
       "1             0.0  \n",
       "2             0.0  \n",
       "3             0.0  \n",
       "4             0.0  \n",
       "...           ...  \n",
       "20635         0.0  \n",
       "20636         0.0  \n",
       "20637         0.0  \n",
       "20638         0.0  \n",
       "20639         0.0  \n",
       "\n",
       "[20640 rows x 14 columns]"
      ]
     },
     "execution_count": 42,
     "metadata": {},
     "output_type": "execute_result"
    }
   ],
   "source": [
    "housing"
   ]
  },
  {
   "cell_type": "code",
   "execution_count": 43,
   "id": "04041d96",
   "metadata": {},
   "outputs": [],
   "source": []
  },
  {
   "cell_type": "markdown",
   "id": "909d1c12",
   "metadata": {},
   "source": [
    "Independent Variables"
   ]
  },
  {
   "cell_type": "code",
   "execution_count": 44,
   "id": "edb37d69",
   "metadata": {},
   "outputs": [],
   "source": [
    "X = housing.drop(columns = 'median_house_value')"
   ]
  },
  {
   "cell_type": "markdown",
   "id": "53e1f360",
   "metadata": {},
   "source": [
    "Dependent Variable"
   ]
  },
  {
   "cell_type": "code",
   "execution_count": 45,
   "id": "6f303ac4",
   "metadata": {},
   "outputs": [],
   "source": [
    "y = housing['median_house_value']"
   ]
  },
  {
   "cell_type": "code",
   "execution_count": 46,
   "id": "2e8b4f42",
   "metadata": {},
   "outputs": [],
   "source": [
    "X_train,X_test,y_train,y_test = train_test_split(X,y,test_size = 0.2, random_state = 42)"
   ]
  },
  {
   "cell_type": "code",
   "execution_count": null,
   "id": "f9d9df6d",
   "metadata": {},
   "outputs": [],
   "source": [
    "from sklearn.preprocessing import StandardScaler\n",
    "scaler = StandardScalar()\n",
    "scaler.fit(X_train) # find mean and std deviation\n",
    "X_train = scalar.transform(X_train)\n",
    "X_test = scalar.transform(X_test)"
   ]
  },
  {
   "cell_type": "markdown",
   "id": "749aac4c",
   "metadata": {},
   "source": [
    "# Model\n"
   ]
  },
  {
   "cell_type": "markdown",
   "id": "7a8b8afa",
   "metadata": {},
   "source": [
    "Linear Regression"
   ]
  },
  {
   "cell_type": "code",
   "execution_count": null,
   "id": "9f517b3e",
   "metadata": {},
   "outputs": [],
   "source": [
    "from sklearn.linear_model import LinearRegression\n",
    "from sklearn.model_selection import train_test_split\n",
    "from sklearn.metrics import r2_score"
   ]
  },
  {
   "cell_type": "code",
   "execution_count": 47,
   "id": "b6bb84c9",
   "metadata": {},
   "outputs": [],
   "source": [
    "lr = LinearRegression()"
   ]
  },
  {
   "cell_type": "code",
   "execution_count": 48,
   "id": "71112f33",
   "metadata": {},
   "outputs": [
    {
     "data": {
      "text/plain": [
       "LinearRegression()"
      ]
     },
     "execution_count": 48,
     "metadata": {},
     "output_type": "execute_result"
    }
   ],
   "source": [
    "lr.fit(X_train,y_train)"
   ]
  },
  {
   "cell_type": "code",
   "execution_count": 49,
   "id": "9ceaba10",
   "metadata": {},
   "outputs": [],
   "source": [
    "y_pred = lr.predict(X_test)"
   ]
  },
  {
   "cell_type": "code",
   "execution_count": 50,
   "id": "4667f224",
   "metadata": {},
   "outputs": [
    {
     "data": {
      "text/plain": [
       "0.6073265996635546"
      ]
     },
     "execution_count": 50,
     "metadata": {},
     "output_type": "execute_result"
    }
   ],
   "source": [
    "#r2_score for test dataset\n",
    "\n",
    "r2_score(y_test,y_pred)"
   ]
  },
  {
   "cell_type": "code",
   "execution_count": 51,
   "id": "140f0200",
   "metadata": {},
   "outputs": [],
   "source": [
    "y_pred_train = lr.predict(X_train)"
   ]
  },
  {
   "cell_type": "code",
   "execution_count": 52,
   "id": "b80ba9af",
   "metadata": {},
   "outputs": [
    {
     "data": {
      "text/plain": [
       "0.6405123266340924"
      ]
     },
     "execution_count": 52,
     "metadata": {},
     "output_type": "execute_result"
    }
   ],
   "source": [
    "# r2_score for training dataset\n",
    "\n",
    "r2_score(y_train,y_pred_train)"
   ]
  },
  {
   "cell_type": "markdown",
   "id": "25cf4e02",
   "metadata": {},
   "source": [
    "Remarks : Linear regression is poorly performing for the dataset"
   ]
  },
  {
   "cell_type": "markdown",
   "id": "33013446",
   "metadata": {},
   "source": [
    "Decision Tree Regressor"
   ]
  },
  {
   "cell_type": "code",
   "execution_count": 53,
   "id": "9eb805fe",
   "metadata": {},
   "outputs": [],
   "source": [
    "from sklearn.tree import DecisionTreeRegressor"
   ]
  },
  {
   "cell_type": "code",
   "execution_count": 54,
   "id": "04843f3e",
   "metadata": {},
   "outputs": [],
   "source": [
    "tree_reg = DecisionTreeRegressor()"
   ]
  },
  {
   "cell_type": "code",
   "execution_count": 55,
   "id": "4202112d",
   "metadata": {},
   "outputs": [
    {
     "data": {
      "text/plain": [
       "DecisionTreeRegressor()"
      ]
     },
     "execution_count": 55,
     "metadata": {},
     "output_type": "execute_result"
    }
   ],
   "source": [
    "tree_reg.fit(X_train,y_train)"
   ]
  },
  {
   "cell_type": "code",
   "execution_count": 56,
   "id": "c40bdfce",
   "metadata": {},
   "outputs": [],
   "source": [
    "y_pred_Dt = tree_reg.predict(X_test)"
   ]
  },
  {
   "cell_type": "code",
   "execution_count": 57,
   "id": "8f2d2665",
   "metadata": {},
   "outputs": [
    {
     "data": {
      "text/plain": [
       "0.638746547540501"
      ]
     },
     "execution_count": 57,
     "metadata": {},
     "output_type": "execute_result"
    }
   ],
   "source": [
    "#r2_score for test dataset\n",
    "\n",
    "r2_score(y_test,y_pred_Dt)"
   ]
  },
  {
   "cell_type": "code",
   "execution_count": 58,
   "id": "a9bb48eb",
   "metadata": {},
   "outputs": [],
   "source": [
    "y_pred_Dt_train = tree_reg.predict(X_train)"
   ]
  },
  {
   "cell_type": "code",
   "execution_count": 59,
   "id": "7f60ab4d",
   "metadata": {},
   "outputs": [
    {
     "data": {
      "text/plain": [
       "1.0"
      ]
     },
     "execution_count": 59,
     "metadata": {},
     "output_type": "execute_result"
    }
   ],
   "source": [
    "#r2_score for training dataset\n",
    "\n",
    "r2_score(y_train,y_pred_Dt_train)"
   ]
  },
  {
   "cell_type": "markdown",
   "id": "8e9f3e06",
   "metadata": {},
   "source": [
    "Remarsk : Overfitting model : We can see model is highly overfitting, model is having high r2_score or training dataset andpoor                               r2_score on test dataset. Rsulting in high variance"
   ]
  },
  {
   "cell_type": "markdown",
   "id": "dd2676c4",
   "metadata": {},
   "source": [
    "Random Forest Regressor"
   ]
  },
  {
   "cell_type": "code",
   "execution_count": 60,
   "id": "3edf76a4",
   "metadata": {},
   "outputs": [],
   "source": [
    "from sklearn.ensemble import RandomForestRegressor"
   ]
  },
  {
   "cell_type": "code",
   "execution_count": 61,
   "id": "d7b2ad92",
   "metadata": {},
   "outputs": [],
   "source": [
    "forest_reg = RandomForestRegressor()"
   ]
  },
  {
   "cell_type": "code",
   "execution_count": 62,
   "id": "68aadf9f",
   "metadata": {},
   "outputs": [
    {
     "data": {
      "text/plain": [
       "RandomForestRegressor()"
      ]
     },
     "execution_count": 62,
     "metadata": {},
     "output_type": "execute_result"
    }
   ],
   "source": [
    "forest_reg.fit(X_train, y_train)"
   ]
  },
  {
   "cell_type": "code",
   "execution_count": 63,
   "id": "a0d6decd",
   "metadata": {},
   "outputs": [],
   "source": [
    "y_pred_Rf = forest_reg.predict(X_test)"
   ]
  },
  {
   "cell_type": "code",
   "execution_count": 64,
   "id": "d5e51d64",
   "metadata": {},
   "outputs": [
    {
     "data": {
      "text/plain": [
       "0.8128308144614719"
      ]
     },
     "execution_count": 64,
     "metadata": {},
     "output_type": "execute_result"
    }
   ],
   "source": [
    "# r2_score for test dataset\n",
    "\n",
    "r2_score(y_test,y_pred_Rf)"
   ]
  },
  {
   "cell_type": "code",
   "execution_count": 65,
   "id": "73cf7462",
   "metadata": {},
   "outputs": [],
   "source": [
    "# r2_score for training dataset\n",
    "\n",
    "y_pred_Rf_train = forest_reg.predict(X_train)"
   ]
  },
  {
   "cell_type": "code",
   "execution_count": 66,
   "id": "d3d93a1a",
   "metadata": {},
   "outputs": [
    {
     "data": {
      "text/plain": [
       "0.9745524656602879"
      ]
     },
     "execution_count": 66,
     "metadata": {},
     "output_type": "execute_result"
    }
   ],
   "source": [
    "r2_score(y_train,y_pred_Rf_train)"
   ]
  },
  {
   "cell_type": "markdown",
   "id": "c84c011f",
   "metadata": {},
   "source": [
    "# Fine Tuning"
   ]
  }
 ],
 "metadata": {
  "kernelspec": {
   "display_name": "Python 3",
   "language": "python",
   "name": "python3"
  },
  "language_info": {
   "codemirror_mode": {
    "name": "ipython",
    "version": 3
   },
   "file_extension": ".py",
   "mimetype": "text/x-python",
   "name": "python",
   "nbconvert_exporter": "python",
   "pygments_lexer": "ipython3",
   "version": "3.8.8"
  }
 },
 "nbformat": 4,
 "nbformat_minor": 5
}
