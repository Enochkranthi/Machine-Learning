{
 "cells": [
  {
   "cell_type": "markdown",
   "id": "ac220278",
   "metadata": {},
   "source": [
    "Old Faithful Geyser Data\n",
    "\n",
    "Description: (From R manual):\n",
    "\n",
    "     Waiting time between eruptions and the duration of the eruption\n",
    "     for the Old Faithful geyser in Yellowstone National Park, Wyoming,\n",
    "     USA.\n",
    "\n",
    "     A data frame with 272 observations on 2 variables.\n",
    "\n",
    "eruptions  numeric  Eruption time in mins\n",
    "waiting    numeric  Waiting time to next eruption\n",
    "\n",
    "References:\n",
    "\n",
    "     Hardle, W. (1991) Smoothing Techniques with Implementation in S.\n",
    "     New York: Springer.\n",
    "\n",
    "     Azzalini, A. and Bowman, A. W. (1990). A look at some data on the\n",
    "     Old Faithful geyser. Applied Statistics 39, 357-365.\n",
    "\n",
    "\n"
   ]
  },
  {
   "cell_type": "code",
   "execution_count": 1,
   "id": "89656719",
   "metadata": {},
   "outputs": [],
   "source": [
    "import numpy as np\n",
    "import pandas as pd\n",
    "import matplotlib.pyplot as plt"
   ]
  },
  {
   "cell_type": "code",
   "execution_count": null,
   "id": "438c8caa",
   "metadata": {},
   "outputs": [],
   "source": []
  }
 ],
 "metadata": {
  "kernelspec": {
   "display_name": "Python 3",
   "language": "python",
   "name": "python3"
  },
  "language_info": {
   "codemirror_mode": {
    "name": "ipython",
    "version": 3
   },
   "file_extension": ".py",
   "mimetype": "text/x-python",
   "name": "python",
   "nbconvert_exporter": "python",
   "pygments_lexer": "ipython3",
   "version": "3.8.8"
  }
 },
 "nbformat": 4,
 "nbformat_minor": 5
}
